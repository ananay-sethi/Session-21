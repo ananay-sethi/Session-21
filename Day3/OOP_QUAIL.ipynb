{
 "cells": [
  {
   "cell_type": "markdown",
   "metadata": {},
   "source": [
    "# QUAIL Pipeline\n",
    "**Quick-RAIL, A Simplified RAIL Degradation Pipeline**\n",
    "\n",
    "This pipeline heavily references the pipeline created in RAIL's Degradation Demo notebook, which can be found [rendered on ReadTheDocs](https://rail-hub.readthedocs.io/projects/rail-notebooks/en/latest/rendered/creation_examples/degradation-demo.html) and in [notebook form on GitHub](https://github.com/LSSTDESC/rail/blob/main/examples/creation_examples/degradation-demo.ipynb)."
   ]
  },
  {
   "cell_type": "markdown",
   "metadata": {},
   "source": [
    "## Welcome!\n",
    "\n",
    "The recommended order of action is as follows: \n",
    "\n",
    "_(However, because the pipeline is already able to run as-is, you are free to skip any steps and come back to them later.)_\n",
    "\n",
    "1. Read through the whole notebook.\n",
    "1. Implement an Incorrectness stage.\n",
    "    1. Each row will have some change of its redshift value being changed to a random value.\n",
    "    1. This kind of degrader is especially useful in cases where you need a pipeline to test for the impact of incorrect values in your training set, and how it will impact your estimations on your test set. In essense, how sensitive is your estimator to bad values in your training set? If even a tenth of a percent of values being bad will ruin things, that's good to know up front!\n",
    "1. Implement InvRedshiftIncompleteness.\n",
    "    1. This degrader applies a selection function, which keeps galaxies with probability $p_{\\text{keep}}(z) = \\min(1, \\frac{z_p}{z})$, where $z_p$ is the ''pivot'' redshift. We'll use $z_p = 0.8$.\n",
    "    1. If this speaks to you, consider other incompleteness degrader stages you could implement. Different survival functions can be applied to different bands (see [Malmquist bias](https://en.wikipedia.org/wiki/Malmquist_bias)), and this will result in different redshift distributions. \n",
    "    1. We recommend using scipy's [continuous distributions](https://docs.scipy.org/doc/scipy/reference/stats.html#continuous-distributions), which have survival functions as a method called `sf` (eg, see [alpha.sf docs](https://docs.scipy.org/doc/scipy/reference/generated/scipy.stats.alpha.html#scipy.stats.alpha:~:text=sf(x%2C%20a%2C%20loc%3D0%2C%20scale%3D1))).\n",
    "1. Once you have at least a couple degraders to choose from, take some time to play around with the pipeline and see how different adding and removing degraders in different combinations will affect the results.\n",
    "1. Implement LSSTErrorModel to replace the BadErrorModel.\n",
    "    1. More info on how the error model is generated is in the LSST docs.\n",
    "    2. If you'd like a hint, we recommend looking at John Franklin's code in his implementation of the LSSTErrorModel ([repo here](https://github.com/jfcrenshaw/photerr/tree/main/photerr)).\n",
    "1. Implement better plotting functionality (as described at the end).\n"
   ]
  },
  {
   "cell_type": "markdown",
   "metadata": {},
   "source": [
    "## Setting things up"
   ]
  },
  {
   "cell_type": "markdown",
   "metadata": {},
   "source": [
    "Start by making a conda environment (or translate these instructions for your preferred environment manager):\n",
    "\n",
    "`conda create -n quail python=3.10`\n",
    "\n",
    "Install the following packages:\n",
    "```\n",
    "pip install pzflow\n",
    "pip install pz-rail-pzflow\n",
    "pip install matplotlib\n",
    "pip install ipykernel\n",
    "```\n",
    "\n",
    "Make your conda environment available as a kernel for your notebook:\n",
    "\n",
    "`python -m ipykernel install --user --name quail`"
   ]
  },
  {
   "cell_type": "code",
   "execution_count": 1,
   "metadata": {
    "ExecuteTime": {
     "end_time": "2024-06-06T14:21:09.339340Z",
     "start_time": "2024-06-06T14:21:09.336451Z"
    }
   },
   "outputs": [],
   "source": [
    "# %pip install pzflow\n",
    "# %pip install pz-rail-pzflow\n",
    "# %pip install matplotlib\n",
    "# %pip install ipykernel"
   ]
  },
  {
   "cell_type": "code",
   "execution_count": 2,
   "metadata": {
    "ExecuteTime": {
     "end_time": "2024-06-06T14:21:09.345177Z",
     "start_time": "2024-06-06T14:21:09.343007Z"
    }
   },
   "outputs": [],
   "source": [
    "# %pip install jaxlib  # Specify an older version that is known to work without AVX"
   ]
  },
  {
   "cell_type": "code",
   "execution_count": 3,
   "metadata": {
    "ExecuteTime": {
     "end_time": "2024-06-06T14:21:10.595016Z",
     "start_time": "2024-06-06T14:21:09.353275Z"
    }
   },
   "outputs": [
    {
     "name": "stdout",
     "output_type": "stream",
     "text": [
      "Intel MKL WARNING: Support of Intel(R) Streaming SIMD Extensions 4.2 (Intel(R) SSE4.2) enabled only processors has been deprecated. Intel oneAPI Math Kernel Library 2025.0 will require Intel(R) Advanced Vector Extensions (Intel(R) AVX) instructions.\n",
      "Intel MKL WARNING: Support of Intel(R) Streaming SIMD Extensions 4.2 (Intel(R) SSE4.2) enabled only processors has been deprecated. Intel oneAPI Math Kernel Library 2025.0 will require Intel(R) Advanced Vector Extensions (Intel(R) AVX) instructions.\n"
     ]
    }
   ],
   "source": [
    "# Then our imports:\n",
    "from numbers import Number\n",
    "import os\n",
    "import pandas as pd\n",
    "\n",
    "#import pzflow\n",
    "import matplotlib.pyplot as plt"
   ]
  },
  {
   "cell_type": "markdown",
   "metadata": {},
   "source": [
    "## Generate our truth data from PZFlow"
   ]
  },
  {
   "cell_type": "code",
   "execution_count": 4,
   "metadata": {
    "ExecuteTime": {
     "end_time": "2024-06-06T14:21:10.613713Z",
     "start_time": "2024-06-06T14:21:10.596212Z"
    }
   },
   "outputs": [
    {
     "data": {
      "text/html": [
       "<div>\n",
       "<style scoped>\n",
       "    .dataframe tbody tr th:only-of-type {\n",
       "        vertical-align: middle;\n",
       "    }\n",
       "\n",
       "    .dataframe tbody tr th {\n",
       "        vertical-align: top;\n",
       "    }\n",
       "\n",
       "    .dataframe thead th {\n",
       "        text-align: right;\n",
       "    }\n",
       "</style>\n",
       "<table border=\"1\" class=\"dataframe\">\n",
       "  <thead>\n",
       "    <tr style=\"text-align: right;\">\n",
       "      <th></th>\n",
       "      <th>redshift</th>\n",
       "      <th>u</th>\n",
       "      <th>g</th>\n",
       "      <th>r</th>\n",
       "      <th>i</th>\n",
       "      <th>z</th>\n",
       "      <th>y</th>\n",
       "    </tr>\n",
       "  </thead>\n",
       "  <tbody>\n",
       "    <tr>\n",
       "      <th>0</th>\n",
       "      <td>0.890625</td>\n",
       "      <td>27.370831</td>\n",
       "      <td>26.712662</td>\n",
       "      <td>26.025227</td>\n",
       "      <td>25.327188</td>\n",
       "      <td>25.016504</td>\n",
       "      <td>24.926823</td>\n",
       "    </tr>\n",
       "    <tr>\n",
       "      <th>1</th>\n",
       "      <td>1.978239</td>\n",
       "      <td>29.557047</td>\n",
       "      <td>28.361183</td>\n",
       "      <td>27.587229</td>\n",
       "      <td>27.238544</td>\n",
       "      <td>26.628109</td>\n",
       "      <td>26.248562</td>\n",
       "    </tr>\n",
       "    <tr>\n",
       "      <th>2</th>\n",
       "      <td>0.974287</td>\n",
       "      <td>26.566011</td>\n",
       "      <td>25.937712</td>\n",
       "      <td>24.787411</td>\n",
       "      <td>23.872452</td>\n",
       "      <td>23.139565</td>\n",
       "      <td>22.832047</td>\n",
       "    </tr>\n",
       "    <tr>\n",
       "      <th>3</th>\n",
       "      <td>1.317978</td>\n",
       "      <td>29.042734</td>\n",
       "      <td>28.274597</td>\n",
       "      <td>27.501108</td>\n",
       "      <td>26.648792</td>\n",
       "      <td>26.091450</td>\n",
       "      <td>25.346502</td>\n",
       "    </tr>\n",
       "    <tr>\n",
       "      <th>4</th>\n",
       "      <td>1.386366</td>\n",
       "      <td>26.292625</td>\n",
       "      <td>25.774780</td>\n",
       "      <td>25.429962</td>\n",
       "      <td>24.806532</td>\n",
       "      <td>24.367950</td>\n",
       "      <td>23.700010</td>\n",
       "    </tr>\n",
       "    <tr>\n",
       "      <th>...</th>\n",
       "      <td>...</td>\n",
       "      <td>...</td>\n",
       "      <td>...</td>\n",
       "      <td>...</td>\n",
       "      <td>...</td>\n",
       "      <td>...</td>\n",
       "      <td>...</td>\n",
       "    </tr>\n",
       "    <tr>\n",
       "      <th>99995</th>\n",
       "      <td>2.147171</td>\n",
       "      <td>26.550978</td>\n",
       "      <td>26.349936</td>\n",
       "      <td>26.135284</td>\n",
       "      <td>26.082018</td>\n",
       "      <td>25.911028</td>\n",
       "      <td>25.558134</td>\n",
       "    </tr>\n",
       "    <tr>\n",
       "      <th>99996</th>\n",
       "      <td>1.457508</td>\n",
       "      <td>27.362207</td>\n",
       "      <td>27.036274</td>\n",
       "      <td>26.823139</td>\n",
       "      <td>26.420128</td>\n",
       "      <td>26.110035</td>\n",
       "      <td>25.524902</td>\n",
       "    </tr>\n",
       "    <tr>\n",
       "      <th>99997</th>\n",
       "      <td>1.372993</td>\n",
       "      <td>27.736044</td>\n",
       "      <td>27.271955</td>\n",
       "      <td>26.887581</td>\n",
       "      <td>26.416138</td>\n",
       "      <td>26.043434</td>\n",
       "      <td>25.456161</td>\n",
       "    </tr>\n",
       "    <tr>\n",
       "      <th>99998</th>\n",
       "      <td>0.855022</td>\n",
       "      <td>28.044552</td>\n",
       "      <td>27.327118</td>\n",
       "      <td>26.599014</td>\n",
       "      <td>25.862333</td>\n",
       "      <td>25.592169</td>\n",
       "      <td>25.506388</td>\n",
       "    </tr>\n",
       "    <tr>\n",
       "      <th>99999</th>\n",
       "      <td>1.723768</td>\n",
       "      <td>27.049068</td>\n",
       "      <td>26.526745</td>\n",
       "      <td>26.094595</td>\n",
       "      <td>25.642973</td>\n",
       "      <td>25.197958</td>\n",
       "      <td>24.900501</td>\n",
       "    </tr>\n",
       "  </tbody>\n",
       "</table>\n",
       "<p>100000 rows × 7 columns</p>\n",
       "</div>"
      ],
      "text/plain": [
       "       redshift          u          g          r          i          z  \\\n",
       "0      0.890625  27.370831  26.712662  26.025227  25.327188  25.016504   \n",
       "1      1.978239  29.557047  28.361183  27.587229  27.238544  26.628109   \n",
       "2      0.974287  26.566011  25.937712  24.787411  23.872452  23.139565   \n",
       "3      1.317978  29.042734  28.274597  27.501108  26.648792  26.091450   \n",
       "4      1.386366  26.292625  25.774780  25.429962  24.806532  24.367950   \n",
       "...         ...        ...        ...        ...        ...        ...   \n",
       "99995  2.147171  26.550978  26.349936  26.135284  26.082018  25.911028   \n",
       "99996  1.457508  27.362207  27.036274  26.823139  26.420128  26.110035   \n",
       "99997  1.372993  27.736044  27.271955  26.887581  26.416138  26.043434   \n",
       "99998  0.855022  28.044552  27.327118  26.599014  25.862333  25.592169   \n",
       "99999  1.723768  27.049068  26.526745  26.094595  25.642973  25.197958   \n",
       "\n",
       "               y  \n",
       "0      24.926823  \n",
       "1      26.248562  \n",
       "2      22.832047  \n",
       "3      25.346502  \n",
       "4      23.700010  \n",
       "...          ...  \n",
       "99995  25.558134  \n",
       "99996  25.524902  \n",
       "99997  25.456161  \n",
       "99998  25.506388  \n",
       "99999  24.900501  \n",
       "\n",
       "[100000 rows x 7 columns]"
      ]
     },
     "execution_count": 4,
     "metadata": {},
     "output_type": "execute_result"
    }
   ],
   "source": [
    "flow_file = pd.read_pickle('samples_truth.pkl')\n",
    "flow_file"
   ]
  },
  {
   "cell_type": "code",
   "execution_count": 5,
   "metadata": {
    "ExecuteTime": {
     "end_time": "2024-06-06T14:21:10.624556Z",
     "start_time": "2024-06-06T14:21:10.614823Z"
    }
   },
   "outputs": [],
   "source": [
    "# flow_file = os.path.join(\n",
    "#     os.path.dirname(pzflow.__file__), \"example_files\", \"example-flow.pzflow.pkl\"\n",
    "# )\n",
    "# flowCreator_truth = pzflow.Flow(file=flow_file)\n",
    "\n",
    "n_samples = int(1e5)\n",
    "samples_truth = flow_file.sample(n_samples)"
   ]
  },
  {
   "cell_type": "code",
   "execution_count": 6,
   "metadata": {
    "ExecuteTime": {
     "end_time": "2024-06-06T14:21:10.635679Z",
     "start_time": "2024-06-06T14:21:10.627445Z"
    }
   },
   "outputs": [
    {
     "data": {
      "text/html": [
       "<div>\n",
       "<style scoped>\n",
       "    .dataframe tbody tr th:only-of-type {\n",
       "        vertical-align: middle;\n",
       "    }\n",
       "\n",
       "    .dataframe tbody tr th {\n",
       "        vertical-align: top;\n",
       "    }\n",
       "\n",
       "    .dataframe thead th {\n",
       "        text-align: right;\n",
       "    }\n",
       "</style>\n",
       "<table border=\"1\" class=\"dataframe\">\n",
       "  <thead>\n",
       "    <tr style=\"text-align: right;\">\n",
       "      <th></th>\n",
       "      <th>redshift</th>\n",
       "      <th>u</th>\n",
       "      <th>g</th>\n",
       "      <th>r</th>\n",
       "      <th>i</th>\n",
       "      <th>z</th>\n",
       "      <th>y</th>\n",
       "    </tr>\n",
       "  </thead>\n",
       "  <tbody>\n",
       "    <tr>\n",
       "      <th>36364</th>\n",
       "      <td>0.625635</td>\n",
       "      <td>26.970232</td>\n",
       "      <td>26.144316</td>\n",
       "      <td>25.266809</td>\n",
       "      <td>24.750681</td>\n",
       "      <td>24.644085</td>\n",
       "      <td>24.522345</td>\n",
       "    </tr>\n",
       "    <tr>\n",
       "      <th>12367</th>\n",
       "      <td>1.236429</td>\n",
       "      <td>27.559992</td>\n",
       "      <td>27.071838</td>\n",
       "      <td>26.502645</td>\n",
       "      <td>26.102118</td>\n",
       "      <td>25.537342</td>\n",
       "      <td>25.175392</td>\n",
       "    </tr>\n",
       "    <tr>\n",
       "      <th>80447</th>\n",
       "      <td>0.332519</td>\n",
       "      <td>27.558414</td>\n",
       "      <td>26.428171</td>\n",
       "      <td>25.509224</td>\n",
       "      <td>25.353188</td>\n",
       "      <td>25.073059</td>\n",
       "      <td>25.201401</td>\n",
       "    </tr>\n",
       "    <tr>\n",
       "      <th>68387</th>\n",
       "      <td>0.474576</td>\n",
       "      <td>24.070129</td>\n",
       "      <td>23.565924</td>\n",
       "      <td>22.650618</td>\n",
       "      <td>22.202801</td>\n",
       "      <td>21.950413</td>\n",
       "      <td>21.720018</td>\n",
       "    </tr>\n",
       "    <tr>\n",
       "      <th>14240</th>\n",
       "      <td>2.105963</td>\n",
       "      <td>25.306313</td>\n",
       "      <td>25.055779</td>\n",
       "      <td>24.741684</td>\n",
       "      <td>24.708651</td>\n",
       "      <td>24.423637</td>\n",
       "      <td>24.092949</td>\n",
       "    </tr>\n",
       "    <tr>\n",
       "      <th>...</th>\n",
       "      <td>...</td>\n",
       "      <td>...</td>\n",
       "      <td>...</td>\n",
       "      <td>...</td>\n",
       "      <td>...</td>\n",
       "      <td>...</td>\n",
       "      <td>...</td>\n",
       "    </tr>\n",
       "    <tr>\n",
       "      <th>8077</th>\n",
       "      <td>1.305663</td>\n",
       "      <td>25.500870</td>\n",
       "      <td>25.221310</td>\n",
       "      <td>24.934118</td>\n",
       "      <td>24.501778</td>\n",
       "      <td>24.055397</td>\n",
       "      <td>23.506071</td>\n",
       "    </tr>\n",
       "    <tr>\n",
       "      <th>20724</th>\n",
       "      <td>2.124935</td>\n",
       "      <td>28.413841</td>\n",
       "      <td>27.778801</td>\n",
       "      <td>27.207434</td>\n",
       "      <td>26.964642</td>\n",
       "      <td>26.477867</td>\n",
       "      <td>25.972645</td>\n",
       "    </tr>\n",
       "    <tr>\n",
       "      <th>32813</th>\n",
       "      <td>1.014365</td>\n",
       "      <td>26.570278</td>\n",
       "      <td>25.923819</td>\n",
       "      <td>25.128456</td>\n",
       "      <td>24.543852</td>\n",
       "      <td>23.975750</td>\n",
       "      <td>23.783253</td>\n",
       "    </tr>\n",
       "    <tr>\n",
       "      <th>56540</th>\n",
       "      <td>0.297844</td>\n",
       "      <td>25.295195</td>\n",
       "      <td>24.330391</td>\n",
       "      <td>23.513874</td>\n",
       "      <td>23.226496</td>\n",
       "      <td>22.971029</td>\n",
       "      <td>22.915003</td>\n",
       "    </tr>\n",
       "    <tr>\n",
       "      <th>97574</th>\n",
       "      <td>0.866649</td>\n",
       "      <td>28.029116</td>\n",
       "      <td>26.324339</td>\n",
       "      <td>24.191816</td>\n",
       "      <td>23.062868</td>\n",
       "      <td>22.209396</td>\n",
       "      <td>21.883827</td>\n",
       "    </tr>\n",
       "  </tbody>\n",
       "</table>\n",
       "<p>100000 rows × 7 columns</p>\n",
       "</div>"
      ],
      "text/plain": [
       "       redshift          u          g          r          i          z  \\\n",
       "36364  0.625635  26.970232  26.144316  25.266809  24.750681  24.644085   \n",
       "12367  1.236429  27.559992  27.071838  26.502645  26.102118  25.537342   \n",
       "80447  0.332519  27.558414  26.428171  25.509224  25.353188  25.073059   \n",
       "68387  0.474576  24.070129  23.565924  22.650618  22.202801  21.950413   \n",
       "14240  2.105963  25.306313  25.055779  24.741684  24.708651  24.423637   \n",
       "...         ...        ...        ...        ...        ...        ...   \n",
       "8077   1.305663  25.500870  25.221310  24.934118  24.501778  24.055397   \n",
       "20724  2.124935  28.413841  27.778801  27.207434  26.964642  26.477867   \n",
       "32813  1.014365  26.570278  25.923819  25.128456  24.543852  23.975750   \n",
       "56540  0.297844  25.295195  24.330391  23.513874  23.226496  22.971029   \n",
       "97574  0.866649  28.029116  26.324339  24.191816  23.062868  22.209396   \n",
       "\n",
       "               y  \n",
       "36364  24.522345  \n",
       "12367  25.175392  \n",
       "80447  25.201401  \n",
       "68387  21.720018  \n",
       "14240  24.092949  \n",
       "...          ...  \n",
       "8077   23.506071  \n",
       "20724  25.972645  \n",
       "32813  23.783253  \n",
       "56540  22.915003  \n",
       "97574  21.883827  \n",
       "\n",
       "[100000 rows x 7 columns]"
      ]
     },
     "execution_count": 6,
     "metadata": {},
     "output_type": "execute_result"
    }
   ],
   "source": [
    "samples_truth"
   ]
  },
  {
   "cell_type": "markdown",
   "metadata": {},
   "source": [
    "## QUAIL Base Classes"
   ]
  },
  {
   "cell_type": "markdown",
   "metadata": {},
   "source": [
    "We'll be using a few highly simplified versions of RAIL classes, namely:\n",
    "- QuailStage (accompanied by a NothingStage, to demonstrate how we'll inherit for our other degrader stages)\n",
    "- DataStore\n",
    "- Pipeline"
   ]
  },
  {
   "cell_type": "code",
   "execution_count": 7,
   "metadata": {
    "ExecuteTime": {
     "end_time": "2024-06-06T14:21:10.640318Z",
     "start_time": "2024-06-06T14:21:10.636847Z"
    }
   },
   "outputs": [],
   "source": [
    "from abc import ABC, abstractmethod\n",
    "import numpy as np\n",
    "\n",
    "class QuailStage(ABC):\n",
    "    \"\"\"A class for the QuailStage stage.\"\"\"\n",
    "\n",
    "    def __init__(self, name):\n",
    "        \"\"\"Constructor.\n",
    "        \n",
    "        Parameters\n",
    "        ----------\n",
    "        name : str\n",
    "            The (human-readable) name of the stage (this will be used in the Pipeline's __repr__).\n",
    "        \"\"\"\n",
    "        self.name = name\n",
    "        self.data_in = None\n",
    "        self.data_out = None\n",
    "\n",
    "    @abstractmethod\n",
    "    def run(self):\n",
    "        \"\"\"To be implemented in subclasses. This should set the data_out attribute.\"\"\"\n",
    "        pass"
   ]
  },
  {
   "cell_type": "code",
   "execution_count": 8,
   "metadata": {
    "ExecuteTime": {
     "end_time": "2024-06-06T14:21:10.644404Z",
     "start_time": "2024-06-06T14:21:10.641391Z"
    }
   },
   "outputs": [],
   "source": [
    "class NothingStage(QuailStage):\n",
    "    \"\"\"A stage that does nothing.\"\"\"\n",
    "    def __init__(self, name):\n",
    "        \"\"\"Constructor.\n",
    "        \n",
    "        Parameters\n",
    "        ----------\n",
    "        name : str\n",
    "            The name of the stage.\n",
    "        \"\"\"\n",
    "        super().__init__(name)\n",
    "\n",
    "    def run(self):\n",
    "        \"\"\"Run the stage.\"\"\"\n",
    "        self.data_out = self.data_in"
   ]
  },
  {
   "cell_type": "markdown",
   "metadata": {},
   "source": [
    "## Degrader 1: BadErrorModel\n",
    "\n",
    "We start by creating an incredibly naive error model as a stand-in for the LSSTErrorModel.\n",
    "\n",
    "This will generate u_err, g_err, etc. columns for us, but there's no scientific basis for the values it generates."
   ]
  },
  {
   "cell_type": "code",
   "execution_count": 9,
   "metadata": {
    "ExecuteTime": {
     "end_time": "2024-06-06T14:21:10.650654Z",
     "start_time": "2024-06-06T14:21:10.645312Z"
    }
   },
   "outputs": [],
   "source": [
    "class BadErrorModel(QuailStage):\n",
    "    \"\"\"A stage that applies bad errors.\"\"\"\n",
    "    def __init__(self, name):\n",
    "        \"\"\"Constructor.\n",
    "        \n",
    "        Parameters\n",
    "        ----------\n",
    "        name : str\n",
    "            The name of the stage.\n",
    "        \"\"\"\n",
    "        super().__init__(name)\n",
    "\n",
    "    def apply_errors(self):\n",
    "        \"\"\"Apply the errors to the input data.\n",
    "        \n",
    "        Returns\n",
    "        -------\n",
    "        errors : pandas.DataFrame\n",
    "            The input data with errors applied.\n",
    "        \"\"\"\n",
    "        # create a copy of the input data\n",
    "        errors = self.data_in.copy()\n",
    "        for col in [\"u\", \"g\", \"r\", \"i\", \"z\", \"y\"]:\n",
    "            # create a new column with the error\n",
    "            errors[f\"{col}_err\"] = 0.01 * self.data_in[col]\n",
    "        # reorder the columns\n",
    "        errors = errors[[\"redshift\", \"u\", \"u_err\", \"g\", \"g_err\", \"r\", \"r_err\", \"i\", \"i_err\", \"z\", \"z_err\", \"y\", \"y_err\"]]\n",
    "        return errors\n",
    "\n",
    "    def run(self):\n",
    "        \"\"\"Run the stage.\"\"\"\n",
    "        self.data_out = self.apply_errors()\n",
    "\n",
    "    def plot(self):\n",
    "        \"\"\"Plot the truth data and the errors.\"\"\"\n",
    "        if self.data_out is None:\n",
    "            raise ValueError(\"You must run the stage first.\")\n",
    "        \n",
    "        fig, ax = plt.subplots(figsize=(5, 4), dpi=100)\n",
    "\n",
    "        for band in \"ugrizy\":\n",
    "            # pull out the magnitudes and errors\n",
    "            mags = self.data_out[band].to_numpy()\n",
    "            errs = self.data_out[band + \"_err\"].to_numpy()\n",
    "\n",
    "            # sort them by magnitude\n",
    "            mags, errs = mags[mags.argsort()], errs[mags.argsort()]\n",
    "\n",
    "            # plot errs vs mags\n",
    "            ax.plot(mags, errs, label=band)\n",
    "\n",
    "        ax.legend()\n",
    "        ax.set(xlabel=\"Magnitude (AB)\", ylabel=\"Error (mags)\")\n",
    "        plt.show()"
   ]
  },
  {
   "cell_type": "markdown",
   "metadata": {},
   "source": [
    "## Degrader 2: QuantityCut\n",
    "\n",
    "This degrader is based on our QuantityCut example in the degradation demo notebook."
   ]
  },
  {
   "cell_type": "code",
   "execution_count": 10,
   "metadata": {
    "ExecuteTime": {
     "end_time": "2024-06-06T14:21:10.656203Z",
     "start_time": "2024-06-06T14:21:10.651752Z"
    }
   },
   "outputs": [],
   "source": [
    "class QuantityCut(QuailStage):\n",
    "    \"\"\"Applies a cut to the input data based on a quantity.\n",
    "    \n",
    "    Parameters\n",
    "    ----------\n",
    "    name : str\n",
    "        The name of the stage.\n",
    "    cuts : dict\n",
    "        A dictionary of cuts to apply to the data. \n",
    "\n",
    "    Notes\n",
    "    -----\n",
    "    The cut keys should be the names of columns you wish to make cuts on.\n",
    "\n",
    "    The cut values should be either:\n",
    "    - a number, which is the maximum value. E.g. if the dictionary\n",
    "    contains \"i\": 25, then values of i > 25 are cut from the sample.\n",
    "    - an iterable, which is the range of acceptable values. E.g. if the \n",
    "    dictionary contains \"redshift\": (1.5, 2.3), then redshifts outside that\n",
    "    range are cut from the sample.\n",
    "    \"\"\"\n",
    "    def __init__(self, name=\"QuantityCut\", cuts=None):\n",
    "        \"\"\"Constructor.\n",
    "        \"\"\"\n",
    "        super().__init__(name=name)\n",
    "        self.cuts = cuts \n",
    "        self.data_out = None\n",
    "\n",
    "    def apply_cut(self):\n",
    "        \"\"\"Apply the cuts to the input data.\n",
    "        \n",
    "        Returns\n",
    "        -------\n",
    "        data_out : pandas.DataFrame\n",
    "            The input data with the cut applied.\n",
    "        \"\"\"\n",
    "        # create a copy of the input data\n",
    "        data_out = self.data_in.copy()\n",
    "        \n",
    "        # Apply the cuts\n",
    "        for col, cut in self.cuts.items():\n",
    "            if isinstance(cut, Number):\n",
    "                # Apply cut as maximum value\n",
    "                data_out = data_out[data_out[col] <= cut]\n",
    "            elif hasattr(cut, \"__iter__\"):\n",
    "                # Apply cut as range of acceptable values\n",
    "                data_out = data_out[(data_out[col] >= cut[0]) & (data_out[col] <= cut[1])]\n",
    "            else:\n",
    "                raise TypeError(\"Cut must be a number or an iterable of (min, max)\")\n",
    "\n",
    "        return data_out\n",
    "\n",
    "    def run(self):\n",
    "        \"\"\"Run the stage.\"\"\"\n",
    "        data_out = self.apply_cut()\n",
    "        self.data_out = data_out"
   ]
  },
  {
   "cell_type": "markdown",
   "metadata": {},
   "source": [
    "## Degrader 3: InvRedshiftIncompleteness\n",
    "\n",
    "This one is up to you! Feel free to reference "
   ]
  },
  {
   "cell_type": "code",
   "execution_count": 11,
   "metadata": {
    "ExecuteTime": {
     "end_time": "2024-06-06T14:21:10.660797Z",
     "start_time": "2024-06-06T14:21:10.657140Z"
    }
   },
   "outputs": [],
   "source": [
    "# Potentially, write an InvRedshiftIncompleteness for them here\n",
    "\n",
    "class InvRedshiftIncompleteness(QuailStage):\n",
    "    \"\"\"A function that applies and incomplete inverse redshift. \n",
    "    This degrader applies a selection function, which keeps galaxies \n",
    "    with probability $p_{\\text{keep}}(z) = \\min(1, \\frac{z_p}{z})$, \n",
    "    where $z_p$ is the ''pivot'' redshift. We'll use $z_p = 0.8$\n",
    "    \"\"\"\n",
    "    \n",
    "    def __init__(self, name, z_p=0.8):\n",
    "        \"\"\"\n",
    "        Constructor.\n",
    "        \n",
    "        Parameters\n",
    "        ----------\n",
    "        name : str\n",
    "            The name of the stage.\n",
    "        z_p : float\n",
    "            The pivot redshift. Default value is 0.8\n",
    "        \"\"\"\n",
    "        super().__init__(name)\n",
    "        self.z_p = z_p\n",
    "        \n",
    "    def run(self):\n",
    "        \"\"\"Run the stage.\"\"\"\n",
    "        if self.data_in is None:\n",
    "            raise ValueError(\"You must run the stage first.\")\n",
    "        # Add the data into an array\n",
    "        z = np.array(self.data_in[\"redshift\"])\n",
    "        \n",
    "        # Calculating the probability of the selection fn\n",
    "        p_keep = np.minimum(1, self.z_p / z)\n",
    "        \n",
    "        # Generate random values for each galaxy\n",
    "        vals = np.random.rand(len(z))\n",
    "        \n",
    "        # Select galaxies based on probability\n",
    "        mask = vals < p_keep\n",
    "        \n",
    "        # Set the data_out to be the masked z values\n",
    "        self.data_out = z[mask]"
   ]
  },
  {
   "cell_type": "code",
   "execution_count": 12,
   "metadata": {
    "ExecuteTime": {
     "end_time": "2024-06-06T14:21:10.665317Z",
     "start_time": "2024-06-06T14:21:10.663372Z"
    }
   },
   "outputs": [],
   "source": [
    "#print(z.shape)"
   ]
  },
  {
   "cell_type": "markdown",
   "metadata": {},
   "source": [
    "## Making the Pipeline"
   ]
  },
  {
   "cell_type": "code",
   "execution_count": 13,
   "metadata": {
    "ExecuteTime": {
     "end_time": "2024-06-06T14:21:10.670270Z",
     "start_time": "2024-06-06T14:21:10.666495Z"
    }
   },
   "outputs": [],
   "source": [
    "class DataStore(dict):\n",
    "    def __init__(self):\n",
    "        dict.__init__(self)\n",
    "    \n",
    "    def __getattr__(self, key): # Code copied from RAIL's DataStore \n",
    "        \"\"\"Allow attribute-like parameter access\"\"\"\n",
    "        try:\n",
    "            return self.__getitem__(key)\n",
    "        except KeyError as msg:\n",
    "            # Kludge to get docstrings to work\n",
    "            if key in [\"__objclass__\"]:  # pragma: no cover\n",
    "                return None\n",
    "            raise KeyError from msg\n",
    "    \n",
    "    def __repr__(self): # Feel free to change this output into whatever you like!\n",
    "        \"\"\"Prints the DataStore keys and shapes in a human-readable format.\"\"\"\n",
    "        s = \"DataStore\\n\"\n",
    "        for key in self.keys():\n",
    "            s += f\"  {key}:\\n\\t{self[key].shape}\\n\"\n",
    "        return s\n",
    "    \n"
   ]
  },
  {
   "cell_type": "code",
   "execution_count": 14,
   "metadata": {
    "ExecuteTime": {
     "end_time": "2024-06-06T14:21:10.676800Z",
     "start_time": "2024-06-06T14:21:10.672285Z"
    }
   },
   "outputs": [],
   "source": [
    "class Pipeline:\n",
    "    def __init__(self, data_store, stages):\n",
    "        self.data_store = data_store\n",
    "        self.stages = stages\n",
    "\n",
    "    def run(self):\n",
    "        current_data = self.data_store[\"input_data\"]\n",
    "        for stage in self.stages:\n",
    "            print(f\"Running stage: {stage.name}\")\n",
    "            stage.data_in = current_data\n",
    "            stage.run()\n",
    "            self.data_store[f\"{stage.name}_data\"] = stage.data_out\n",
    "            current_data = stage.data_out\n",
    "        self.data_store[\"output_data\"] = current_data\n",
    "\n",
    "    def __repr__(self):\n",
    "        s = \"Pipeline\\n\"\n",
    "        for stage in self.stages:\n",
    "            s += f\"  {stage.name}\\n\"\n",
    "        return s\n",
    "    \n",
    "    def get_stage(self, stage_name):\n",
    "        for stage in self.stages:\n",
    "            if stage.name == stage_name:\n",
    "                return stage\n",
    "        print(f\"Stage {stage_name} not found in pipeline.\")\n",
    "        return None\n",
    "\n",
    "    def plot(self):\n",
    "        pass\n",
    "\n",
    "    def save(self):\n",
    "        pass\n"
   ]
  },
  {
   "cell_type": "code",
   "execution_count": 15,
   "metadata": {
    "ExecuteTime": {
     "end_time": "2024-06-06T14:21:10.681003Z",
     "start_time": "2024-06-06T14:21:10.677974Z"
    }
   },
   "outputs": [],
   "source": [
    "DS = DataStore()\n",
    "DS[\"input_data\"] = samples_truth\n",
    "\n",
    "stages = [\n",
    "    NothingStage(\"do_nothing\"),\n",
    "    BadErrorModel(\"bad_error_model\"),\n",
    "    QuantityCut(\"quality_cut\", cuts={\"i\": 25.3}),\n",
    "    InvRedshiftIncompleteness(\"incomplete_inv_z\", z_p=0.8),\n",
    "]\n",
    "\n",
    "pipeline = Pipeline(DS, stages)"
   ]
  },
  {
   "cell_type": "code",
   "execution_count": 16,
   "metadata": {
    "ExecuteTime": {
     "end_time": "2024-06-06T14:21:10.686366Z",
     "start_time": "2024-06-06T14:21:10.682765Z"
    }
   },
   "outputs": [
    {
     "data": {
      "text/plain": [
       "DataStore\n",
       "  input_data:\n",
       "\t(100000, 7)"
      ]
     },
     "execution_count": 16,
     "metadata": {},
     "output_type": "execute_result"
    }
   ],
   "source": [
    "# Our DataStore before running the pipeline\n",
    "\n",
    "DS"
   ]
  },
  {
   "cell_type": "code",
   "execution_count": 17,
   "metadata": {
    "ExecuteTime": {
     "end_time": "2024-06-06T14:21:10.705114Z",
     "start_time": "2024-06-06T14:21:10.687321Z"
    }
   },
   "outputs": [
    {
     "name": "stdout",
     "output_type": "stream",
     "text": [
      "Running stage: do_nothing\n",
      "Running stage: bad_error_model\n",
      "Running stage: quality_cut\n",
      "Running stage: incomplete_inv_z\n"
     ]
    }
   ],
   "source": [
    "pipeline.run()"
   ]
  },
  {
   "cell_type": "code",
   "execution_count": 18,
   "metadata": {
    "ExecuteTime": {
     "end_time": "2024-06-06T14:21:10.709792Z",
     "start_time": "2024-06-06T14:21:10.706117Z"
    }
   },
   "outputs": [
    {
     "data": {
      "text/plain": [
       "DataStore\n",
       "  input_data:\n",
       "\t(100000, 7)\n",
       "  do_nothing_data:\n",
       "\t(100000, 7)\n",
       "  bad_error_model_data:\n",
       "\t(100000, 13)\n",
       "  quality_cut_data:\n",
       "\t(51834, 13)\n",
       "  incomplete_inv_z_data:\n",
       "\t(45483,)\n",
       "  output_data:\n",
       "\t(45483,)"
      ]
     },
     "execution_count": 18,
     "metadata": {},
     "output_type": "execute_result"
    }
   ],
   "source": [
    "# Our DataStore after running the pipeline\n",
    "\n",
    "DS"
   ]
  },
  {
   "cell_type": "markdown",
   "metadata": {},
   "source": [
    "## Looking at the data"
   ]
  },
  {
   "cell_type": "markdown",
   "metadata": {},
   "source": [
    "Poke around and see the changes you've made! Note that overloading the `__getattr__` in our DataStore class lets us access data via `DS.key` syntax."
   ]
  },
  {
   "cell_type": "code",
   "execution_count": 19,
   "metadata": {
    "ExecuteTime": {
     "end_time": "2024-06-06T14:21:10.723289Z",
     "start_time": "2024-06-06T14:21:10.711430Z"
    }
   },
   "outputs": [
    {
     "data": {
      "text/html": [
       "<div>\n",
       "<style scoped>\n",
       "    .dataframe tbody tr th:only-of-type {\n",
       "        vertical-align: middle;\n",
       "    }\n",
       "\n",
       "    .dataframe tbody tr th {\n",
       "        vertical-align: top;\n",
       "    }\n",
       "\n",
       "    .dataframe thead th {\n",
       "        text-align: right;\n",
       "    }\n",
       "</style>\n",
       "<table border=\"1\" class=\"dataframe\">\n",
       "  <thead>\n",
       "    <tr style=\"text-align: right;\">\n",
       "      <th></th>\n",
       "      <th>redshift</th>\n",
       "      <th>u</th>\n",
       "      <th>u_err</th>\n",
       "      <th>g</th>\n",
       "      <th>g_err</th>\n",
       "      <th>r</th>\n",
       "      <th>r_err</th>\n",
       "      <th>i</th>\n",
       "      <th>i_err</th>\n",
       "      <th>z</th>\n",
       "      <th>z_err</th>\n",
       "      <th>y</th>\n",
       "      <th>y_err</th>\n",
       "    </tr>\n",
       "  </thead>\n",
       "  <tbody>\n",
       "    <tr>\n",
       "      <th>36364</th>\n",
       "      <td>0.625635</td>\n",
       "      <td>26.970232</td>\n",
       "      <td>0.269702</td>\n",
       "      <td>26.144316</td>\n",
       "      <td>0.261443</td>\n",
       "      <td>25.266809</td>\n",
       "      <td>0.252668</td>\n",
       "      <td>24.750681</td>\n",
       "      <td>0.247507</td>\n",
       "      <td>24.644085</td>\n",
       "      <td>0.246441</td>\n",
       "      <td>24.522345</td>\n",
       "      <td>0.245223</td>\n",
       "    </tr>\n",
       "    <tr>\n",
       "      <th>68387</th>\n",
       "      <td>0.474576</td>\n",
       "      <td>24.070129</td>\n",
       "      <td>0.240701</td>\n",
       "      <td>23.565924</td>\n",
       "      <td>0.235659</td>\n",
       "      <td>22.650618</td>\n",
       "      <td>0.226506</td>\n",
       "      <td>22.202801</td>\n",
       "      <td>0.222028</td>\n",
       "      <td>21.950413</td>\n",
       "      <td>0.219504</td>\n",
       "      <td>21.720018</td>\n",
       "      <td>0.217200</td>\n",
       "    </tr>\n",
       "    <tr>\n",
       "      <th>14240</th>\n",
       "      <td>2.105963</td>\n",
       "      <td>25.306313</td>\n",
       "      <td>0.253063</td>\n",
       "      <td>25.055779</td>\n",
       "      <td>0.250558</td>\n",
       "      <td>24.741684</td>\n",
       "      <td>0.247417</td>\n",
       "      <td>24.708651</td>\n",
       "      <td>0.247086</td>\n",
       "      <td>24.423637</td>\n",
       "      <td>0.244236</td>\n",
       "      <td>24.092949</td>\n",
       "      <td>0.240929</td>\n",
       "    </tr>\n",
       "    <tr>\n",
       "      <th>39096</th>\n",
       "      <td>1.431130</td>\n",
       "      <td>26.385490</td>\n",
       "      <td>0.263855</td>\n",
       "      <td>25.999128</td>\n",
       "      <td>0.259991</td>\n",
       "      <td>25.617105</td>\n",
       "      <td>0.256171</td>\n",
       "      <td>25.171354</td>\n",
       "      <td>0.251714</td>\n",
       "      <td>24.977606</td>\n",
       "      <td>0.249776</td>\n",
       "      <td>24.456797</td>\n",
       "      <td>0.244568</td>\n",
       "    </tr>\n",
       "    <tr>\n",
       "      <th>89500</th>\n",
       "      <td>0.494009</td>\n",
       "      <td>27.516226</td>\n",
       "      <td>0.275162</td>\n",
       "      <td>24.888494</td>\n",
       "      <td>0.248885</td>\n",
       "      <td>23.330069</td>\n",
       "      <td>0.233301</td>\n",
       "      <td>22.479189</td>\n",
       "      <td>0.224792</td>\n",
       "      <td>22.113373</td>\n",
       "      <td>0.221134</td>\n",
       "      <td>21.872503</td>\n",
       "      <td>0.218725</td>\n",
       "    </tr>\n",
       "    <tr>\n",
       "      <th>...</th>\n",
       "      <td>...</td>\n",
       "      <td>...</td>\n",
       "      <td>...</td>\n",
       "      <td>...</td>\n",
       "      <td>...</td>\n",
       "      <td>...</td>\n",
       "      <td>...</td>\n",
       "      <td>...</td>\n",
       "      <td>...</td>\n",
       "      <td>...</td>\n",
       "      <td>...</td>\n",
       "      <td>...</td>\n",
       "      <td>...</td>\n",
       "    </tr>\n",
       "    <tr>\n",
       "      <th>96701</th>\n",
       "      <td>1.249473</td>\n",
       "      <td>25.820021</td>\n",
       "      <td>0.258200</td>\n",
       "      <td>25.569300</td>\n",
       "      <td>0.255693</td>\n",
       "      <td>25.311399</td>\n",
       "      <td>0.253114</td>\n",
       "      <td>24.927654</td>\n",
       "      <td>0.249277</td>\n",
       "      <td>24.356054</td>\n",
       "      <td>0.243561</td>\n",
       "      <td>23.925930</td>\n",
       "      <td>0.239259</td>\n",
       "    </tr>\n",
       "    <tr>\n",
       "      <th>8077</th>\n",
       "      <td>1.305663</td>\n",
       "      <td>25.500870</td>\n",
       "      <td>0.255009</td>\n",
       "      <td>25.221310</td>\n",
       "      <td>0.252213</td>\n",
       "      <td>24.934118</td>\n",
       "      <td>0.249341</td>\n",
       "      <td>24.501778</td>\n",
       "      <td>0.245018</td>\n",
       "      <td>24.055397</td>\n",
       "      <td>0.240554</td>\n",
       "      <td>23.506071</td>\n",
       "      <td>0.235061</td>\n",
       "    </tr>\n",
       "    <tr>\n",
       "      <th>32813</th>\n",
       "      <td>1.014365</td>\n",
       "      <td>26.570278</td>\n",
       "      <td>0.265703</td>\n",
       "      <td>25.923819</td>\n",
       "      <td>0.259238</td>\n",
       "      <td>25.128456</td>\n",
       "      <td>0.251285</td>\n",
       "      <td>24.543852</td>\n",
       "      <td>0.245439</td>\n",
       "      <td>23.975750</td>\n",
       "      <td>0.239757</td>\n",
       "      <td>23.783253</td>\n",
       "      <td>0.237833</td>\n",
       "    </tr>\n",
       "    <tr>\n",
       "      <th>56540</th>\n",
       "      <td>0.297844</td>\n",
       "      <td>25.295195</td>\n",
       "      <td>0.252952</td>\n",
       "      <td>24.330391</td>\n",
       "      <td>0.243304</td>\n",
       "      <td>23.513874</td>\n",
       "      <td>0.235139</td>\n",
       "      <td>23.226496</td>\n",
       "      <td>0.232265</td>\n",
       "      <td>22.971029</td>\n",
       "      <td>0.229710</td>\n",
       "      <td>22.915003</td>\n",
       "      <td>0.229150</td>\n",
       "    </tr>\n",
       "    <tr>\n",
       "      <th>97574</th>\n",
       "      <td>0.866649</td>\n",
       "      <td>28.029116</td>\n",
       "      <td>0.280291</td>\n",
       "      <td>26.324339</td>\n",
       "      <td>0.263243</td>\n",
       "      <td>24.191816</td>\n",
       "      <td>0.241918</td>\n",
       "      <td>23.062868</td>\n",
       "      <td>0.230629</td>\n",
       "      <td>22.209396</td>\n",
       "      <td>0.222094</td>\n",
       "      <td>21.883827</td>\n",
       "      <td>0.218838</td>\n",
       "    </tr>\n",
       "  </tbody>\n",
       "</table>\n",
       "<p>51834 rows × 13 columns</p>\n",
       "</div>"
      ],
      "text/plain": [
       "       redshift          u     u_err          g     g_err          r  \\\n",
       "36364  0.625635  26.970232  0.269702  26.144316  0.261443  25.266809   \n",
       "68387  0.474576  24.070129  0.240701  23.565924  0.235659  22.650618   \n",
       "14240  2.105963  25.306313  0.253063  25.055779  0.250558  24.741684   \n",
       "39096  1.431130  26.385490  0.263855  25.999128  0.259991  25.617105   \n",
       "89500  0.494009  27.516226  0.275162  24.888494  0.248885  23.330069   \n",
       "...         ...        ...       ...        ...       ...        ...   \n",
       "96701  1.249473  25.820021  0.258200  25.569300  0.255693  25.311399   \n",
       "8077   1.305663  25.500870  0.255009  25.221310  0.252213  24.934118   \n",
       "32813  1.014365  26.570278  0.265703  25.923819  0.259238  25.128456   \n",
       "56540  0.297844  25.295195  0.252952  24.330391  0.243304  23.513874   \n",
       "97574  0.866649  28.029116  0.280291  26.324339  0.263243  24.191816   \n",
       "\n",
       "          r_err          i     i_err          z     z_err          y     y_err  \n",
       "36364  0.252668  24.750681  0.247507  24.644085  0.246441  24.522345  0.245223  \n",
       "68387  0.226506  22.202801  0.222028  21.950413  0.219504  21.720018  0.217200  \n",
       "14240  0.247417  24.708651  0.247086  24.423637  0.244236  24.092949  0.240929  \n",
       "39096  0.256171  25.171354  0.251714  24.977606  0.249776  24.456797  0.244568  \n",
       "89500  0.233301  22.479189  0.224792  22.113373  0.221134  21.872503  0.218725  \n",
       "...         ...        ...       ...        ...       ...        ...       ...  \n",
       "96701  0.253114  24.927654  0.249277  24.356054  0.243561  23.925930  0.239259  \n",
       "8077   0.249341  24.501778  0.245018  24.055397  0.240554  23.506071  0.235061  \n",
       "32813  0.251285  24.543852  0.245439  23.975750  0.239757  23.783253  0.237833  \n",
       "56540  0.235139  23.226496  0.232265  22.971029  0.229710  22.915003  0.229150  \n",
       "97574  0.241918  23.062868  0.230629  22.209396  0.222094  21.883827  0.218838  \n",
       "\n",
       "[51834 rows x 13 columns]"
      ]
     },
     "execution_count": 19,
     "metadata": {},
     "output_type": "execute_result"
    }
   ],
   "source": [
    "DS.quality_cut_data"
   ]
  },
  {
   "cell_type": "markdown",
   "metadata": {},
   "source": [
    "## Plotting"
   ]
  },
  {
   "cell_type": "markdown",
   "metadata": {},
   "source": [
    "We can access the plot method of our error model like so:"
   ]
  },
  {
   "cell_type": "code",
   "execution_count": 20,
   "metadata": {
    "ExecuteTime": {
     "end_time": "2024-06-06T14:21:11.346763Z",
     "start_time": "2024-06-06T14:21:10.724416Z"
    }
   },
   "outputs": [
    {
     "data": {
      "image/png": "[encoded data removed]",
      "text/plain": [
       "<Figure size 500x400 with 1 Axes>"
      ]
     },
     "metadata": {},
     "output_type": "display_data"
    }
   ],
   "source": [
    "pipeline.get_stage(\"bad_error_model\").plot()  # Compare this to the plot in the RAIL degrader notebook,\n",
    "                                              # where we see very different errors!"
   ]
  },
  {
   "cell_type": "markdown",
   "metadata": {},
   "source": [
    "And here, we grab a snippet of plotting code from the degrader demo notebook. \n",
    "\n",
    "As it is now, we can compare our DataStore's input data and its output data. \n",
    "\n",
    "What else would you want to show? And where would you fit the code in?"
   ]
  },
  {
   "cell_type": "code",
   "execution_count": 21,
   "metadata": {
    "ExecuteTime": {
     "end_time": "2024-06-06T14:21:11.843478Z",
     "start_time": "2024-06-06T14:21:11.350278Z"
    }
   },
   "outputs": [
    {
     "ename": "IndexError",
     "evalue": "only integers, slices (`:`), ellipsis (`...`), numpy.newaxis (`None`) and integer or boolean arrays are valid indices",
     "output_type": "error",
     "traceback": [
      "\u001b[0;31m---------------------------------------------------------------------------\u001b[0m",
      "\u001b[0;31mIndexError\u001b[0m                                Traceback (most recent call last)",
      "Cell \u001b[0;32mIn[21], line 14\u001b[0m\n\u001b[1;32m      6\u001b[0m hist_settings \u001b[38;5;241m=\u001b[39m {\n\u001b[1;32m      7\u001b[0m     \u001b[38;5;124m\"\u001b[39m\u001b[38;5;124mbins\u001b[39m\u001b[38;5;124m\"\u001b[39m: \u001b[38;5;241m50\u001b[39m,\n\u001b[1;32m      8\u001b[0m     \u001b[38;5;124m\"\u001b[39m\u001b[38;5;124mrange\u001b[39m\u001b[38;5;124m\"\u001b[39m: (zmin, zmax),\n\u001b[1;32m      9\u001b[0m     \u001b[38;5;124m\"\u001b[39m\u001b[38;5;124mdensity\u001b[39m\u001b[38;5;124m\"\u001b[39m: \u001b[38;5;28;01mFalse\u001b[39;00m, \u001b[38;5;66;03m# both versions are useful!\u001b[39;00m\n\u001b[1;32m     10\u001b[0m     \u001b[38;5;124m\"\u001b[39m\u001b[38;5;124mhisttype\u001b[39m\u001b[38;5;124m\"\u001b[39m: \u001b[38;5;124m\"\u001b[39m\u001b[38;5;124mstep\u001b[39m\u001b[38;5;124m\"\u001b[39m,\n\u001b[1;32m     11\u001b[0m }\n\u001b[1;32m     13\u001b[0m ax\u001b[38;5;241m.\u001b[39mhist(DS[\u001b[38;5;124m\"\u001b[39m\u001b[38;5;124minput_data\u001b[39m\u001b[38;5;124m\"\u001b[39m][\u001b[38;5;124m\"\u001b[39m\u001b[38;5;124mredshift\u001b[39m\u001b[38;5;124m\"\u001b[39m], label\u001b[38;5;241m=\u001b[39m\u001b[38;5;124m\"\u001b[39m\u001b[38;5;124mDS Input Data\u001b[39m\u001b[38;5;124m\"\u001b[39m, \u001b[38;5;241m*\u001b[39m\u001b[38;5;241m*\u001b[39mhist_settings)\n\u001b[0;32m---> 14\u001b[0m ax\u001b[38;5;241m.\u001b[39mhist(\u001b[43mDS\u001b[49m\u001b[43m[\u001b[49m\u001b[38;5;124;43m\"\u001b[39;49m\u001b[38;5;124;43moutput_data\u001b[39;49m\u001b[38;5;124;43m\"\u001b[39;49m\u001b[43m]\u001b[49m\u001b[43m[\u001b[49m\u001b[38;5;124;43m\"\u001b[39;49m\u001b[38;5;124;43mredshift\u001b[39;49m\u001b[38;5;124;43m\"\u001b[39;49m\u001b[43m]\u001b[49m, label\u001b[38;5;241m=\u001b[39m\u001b[38;5;124m\"\u001b[39m\u001b[38;5;124mDS Output Data\u001b[39m\u001b[38;5;124m\"\u001b[39m, \u001b[38;5;241m*\u001b[39m\u001b[38;5;241m*\u001b[39mhist_settings)\n\u001b[1;32m     15\u001b[0m \u001b[38;5;66;03m# One could extend this to plot the intermediate data, too...\u001b[39;00m\n\u001b[1;32m     17\u001b[0m ax\u001b[38;5;241m.\u001b[39mlegend(title\u001b[38;5;241m=\u001b[39m\u001b[38;5;124m\"\u001b[39m\u001b[38;5;124mSample\u001b[39m\u001b[38;5;124m\"\u001b[39m)\n",
      "\u001b[0;31mIndexError\u001b[0m: only integers, slices (`:`), ellipsis (`...`), numpy.newaxis (`None`) and integer or boolean arrays are valid indices"
     ]
    },
    {
     "data": {
      "image/png": "[encoded data removed]",
      "text/plain": [
       "<Figure size 500x400 with 1 Axes>"
      ]
     },
     "metadata": {},
     "output_type": "display_data"
    }
   ],
   "source": [
    "fig, ax = plt.subplots(figsize=(5, 4), dpi=100)\n",
    "\n",
    "zmin = 0\n",
    "zmax = 2.5\n",
    "\n",
    "hist_settings = {\n",
    "    \"bins\": 50,\n",
    "    \"range\": (zmin, zmax),\n",
    "    \"density\": False, # both versions are useful!\n",
    "    \"histtype\": \"step\",\n",
    "}\n",
    "\n",
    "ax.hist(DS[\"input_data\"][\"redshift\"], label=\"DS Input Data\", **hist_settings)\n",
    "ax.hist(DS[\"output_data\"][\"redshift\"], label=\"DS Output Data\", **hist_settings)\n",
    "# One could extend this to plot the intermediate data, too...\n",
    "\n",
    "ax.legend(title=\"Sample\")\n",
    "ax.set(xlim=(zmin, zmax), xlabel=\"Redshift\", ylabel=\"Galaxy density\")\n",
    "plt.show()\n"
   ]
  }
 ],
 "metadata": {
  "kernelspec": {
   "display_name": "quail",
   "language": "python",
   "name": "quail"
  },
  "language_info": {
   "codemirror_mode": {
    "name": "ipython",
    "version": 3
   },
   "file_extension": ".py",
   "mimetype": "text/x-python",
   "name": "python",
   "nbconvert_exporter": "python",
   "pygments_lexer": "ipython3",
   "version": "3.9.undefined"
  }
 },
 "nbformat": 4,
 "nbformat_minor": 2
}
