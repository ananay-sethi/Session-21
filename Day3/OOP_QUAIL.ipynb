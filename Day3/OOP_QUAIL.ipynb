{
 "cells": [
  {
   "cell_type": "markdown",
   "metadata": {},
   "source": [
    "# QUAIL Pipeline\n",
    "**Quick-RAIL, A Simplified RAIL Degradation Pipeline**\n",
    "\n",
    "This pipeline heavily references the pipeline created in RAIL's Degradation Demo notebook, which can be found [rendered on ReadTheDocs](https://rail-hub.readthedocs.io/projects/rail-notebooks/en/latest/rendered/creation_examples/degradation-demo.html) and in [notebook form on GitHub](https://github.com/LSSTDESC/rail/blob/main/examples/creation_examples/degradation-demo.ipynb)."
   ]
  },
  {
   "cell_type": "markdown",
   "metadata": {},
   "source": [
    "## Welcome!\n",
    "\n",
    "The recommended order of action is as follows: \n",
    "\n",
    "_(However, because the pipeline is already able to run as-is, you are free to skip any steps and come back to them later.)_\n",
    "\n",
    "1. Read through the whole notebook.\n",
    "1. Implement an Incorrectness stage.\n",
    "    1. Each row will have some change of its redshift value being changed to a random value.\n",
    "    1. This kind of degrader is especially useful in cases where you need a pipeline to test for the impact of incorrect values in your training set, and how it will impact your estimations on your test set. In essense, how sensitive is your estimator to bad values in your training set? If even a tenth of a percent of values being bad will ruin things, that's good to know up front!\n",
    "1. Implement InvRedshiftIncompleteness.\n",
    "    1. This degrader applies a selection function, which keeps galaxies with probability $p_{\\text{keep}}(z) = \\min(1, \\frac{z_p}{z})$, where $z_p$ is the ''pivot'' redshift. We'll use $z_p = 0.8$.\n",
    "    1. If this speaks to you, consider other incompleteness degrader stages you could implement. Different survival functions can be applied to different bands (see [Malmquist bias](https://en.wikipedia.org/wiki/Malmquist_bias)), and this will result in different redshift distributions. \n",
    "    1. We recommend using scipy's [continuous distributions](https://docs.scipy.org/doc/scipy/reference/stats.html#continuous-distributions), which have survival functions as a method called `sf` (eg, see [alpha.sf docs](https://docs.scipy.org/doc/scipy/reference/generated/scipy.stats.alpha.html#scipy.stats.alpha:~:text=sf(x%2C%20a%2C%20loc%3D0%2C%20scale%3D1))).\n",
    "1. Once you have at least a couple degraders to choose from, take some time to play around with the pipeline and see how different adding and removing degraders in different combinations will affect the results.\n",
    "1. Implement LSSTErrorModel to replace the BadErrorModel.\n",
    "    1. More info on how the error model is generated is in the LSST docs.\n",
    "    2. If you'd like a hint, we recommend looking at John Franklin's code in his implementation of the LSSTErrorModel ([repo here](https://github.com/jfcrenshaw/photerr/tree/main/photerr)).\n",
    "1. Implement better plotting functionality (as described at the end).\n"
   ]
  },
  {
   "cell_type": "markdown",
   "metadata": {},
   "source": [
    "## Setting things up"
   ]
  },
  {
   "cell_type": "markdown",
   "metadata": {},
   "source": [
    "Start by making a conda environment (or translate these instructions for your preferred environment manager):\n",
    "\n",
    "`conda create -n quail python=3.10`\n",
    "\n",
    "Install the following packages:\n",
    "```\n",
    "pip install pzflow\n",
    "pip install pz-rail-pzflow\n",
    "pip install matplotlib\n",
    "pip install ipykernel\n",
    "```\n",
    "\n",
    "Make your conda environment available as a kernel for your notebook:\n",
    "\n",
    "`python -m ipykernel install --user --name quail`"
   ]
  },
  {
   "cell_type": "code",
   "execution_count": 7,
   "metadata": {},
   "outputs": [],
   "source": [
    "# %pip install pzflow\n",
    "# %pip install pz-rail-pzflow\n",
    "# %pip install matplotlib\n",
    "# %pip install ipykernel"
   ]
  },
  {
   "cell_type": "code",
   "execution_count": 8,
   "metadata": {},
   "outputs": [],
   "source": [
    "# %pip install jaxlib  # Specify an older version that is known to work without AVX"
   ]
  },
  {
   "cell_type": "code",
   "metadata": {
    "ExecuteTime": {
     "end_time": "2024-06-05T15:36:50.275705Z",
     "start_time": "2024-06-05T15:36:47.803914Z"
    }
   },
   "source": [
    "# Then our imports:\n",
    "from numbers import Number\n",
    "import os\n",
    "import pandas as pd\n",
    "\n",
    "#import pzflow\n",
    "import matplotlib.pyplot as plt"
   ],
   "outputs": [
    {
     "name": "stdout",
     "output_type": "stream",
     "text": [
      "Intel MKL WARNING: Support of Intel(R) Streaming SIMD Extensions 4.2 (Intel(R) SSE4.2) enabled only processors has been deprecated. Intel oneAPI Math Kernel Library 2025.0 will require Intel(R) Advanced Vector Extensions (Intel(R) AVX) instructions.\n",
      "Intel MKL WARNING: Support of Intel(R) Streaming SIMD Extensions 4.2 (Intel(R) SSE4.2) enabled only processors has been deprecated. Intel oneAPI Math Kernel Library 2025.0 will require Intel(R) Advanced Vector Extensions (Intel(R) AVX) instructions.\n"
     ]
    }
   ],
   "execution_count": 1
  },
  {
   "cell_type": "markdown",
   "metadata": {},
   "source": [
    "## Generate our truth data from PZFlow"
   ]
  },
  {
   "cell_type": "code",
   "metadata": {
    "ExecuteTime": {
     "end_time": "2024-06-05T15:37:36.319539Z",
     "start_time": "2024-06-05T15:37:36.296094Z"
    }
   },
   "source": [
    "flow_file = pd.read_pickle('samples_truth.pkl')\n",
    "flow_file"
   ],
   "outputs": [
    {
     "data": {
      "text/plain": [
       "       redshift          u          g          r          i          z  \\\n",
       "0      0.890625  27.370831  26.712662  26.025227  25.327188  25.016504   \n",
       "1      1.978239  29.557047  28.361183  27.587229  27.238544  26.628109   \n",
       "2      0.974287  26.566011  25.937712  24.787411  23.872452  23.139565   \n",
       "3      1.317978  29.042734  28.274597  27.501108  26.648792  26.091450   \n",
       "4      1.386366  26.292625  25.774780  25.429962  24.806532  24.367950   \n",
       "...         ...        ...        ...        ...        ...        ...   \n",
       "99995  2.147171  26.550978  26.349936  26.135284  26.082018  25.911028   \n",
       "99996  1.457508  27.362207  27.036274  26.823139  26.420128  26.110035   \n",
       "99997  1.372993  27.736044  27.271955  26.887581  26.416138  26.043434   \n",
       "99998  0.855022  28.044552  27.327118  26.599014  25.862333  25.592169   \n",
       "99999  1.723768  27.049068  26.526745  26.094595  25.642973  25.197958   \n",
       "\n",
       "               y  \n",
       "0      24.926823  \n",
       "1      26.248562  \n",
       "2      22.832047  \n",
       "3      25.346502  \n",
       "4      23.700010  \n",
       "...          ...  \n",
       "99995  25.558134  \n",
       "99996  25.524902  \n",
       "99997  25.456161  \n",
       "99998  25.506388  \n",
       "99999  24.900501  \n",
       "\n",
       "[100000 rows x 7 columns]"
      ],
      "text/html": [
       "<div>\n",
       "<style scoped>\n",
       "    .dataframe tbody tr th:only-of-type {\n",
       "        vertical-align: middle;\n",
       "    }\n",
       "\n",
       "    .dataframe tbody tr th {\n",
       "        vertical-align: top;\n",
       "    }\n",
       "\n",
       "    .dataframe thead th {\n",
       "        text-align: right;\n",
       "    }\n",
       "</style>\n",
       "<table border=\"1\" class=\"dataframe\">\n",
       "  <thead>\n",
       "    <tr style=\"text-align: right;\">\n",
       "      <th></th>\n",
       "      <th>redshift</th>\n",
       "      <th>u</th>\n",
       "      <th>g</th>\n",
       "      <th>r</th>\n",
       "      <th>i</th>\n",
       "      <th>z</th>\n",
       "      <th>y</th>\n",
       "    </tr>\n",
       "  </thead>\n",
       "  <tbody>\n",
       "    <tr>\n",
       "      <th>0</th>\n",
       "      <td>0.890625</td>\n",
       "      <td>27.370831</td>\n",
       "      <td>26.712662</td>\n",
       "      <td>26.025227</td>\n",
       "      <td>25.327188</td>\n",
       "      <td>25.016504</td>\n",
       "      <td>24.926823</td>\n",
       "    </tr>\n",
       "    <tr>\n",
       "      <th>1</th>\n",
       "      <td>1.978239</td>\n",
       "      <td>29.557047</td>\n",
       "      <td>28.361183</td>\n",
       "      <td>27.587229</td>\n",
       "      <td>27.238544</td>\n",
       "      <td>26.628109</td>\n",
       "      <td>26.248562</td>\n",
       "    </tr>\n",
       "    <tr>\n",
       "      <th>2</th>\n",
       "      <td>0.974287</td>\n",
       "      <td>26.566011</td>\n",
       "      <td>25.937712</td>\n",
       "      <td>24.787411</td>\n",
       "      <td>23.872452</td>\n",
       "      <td>23.139565</td>\n",
       "      <td>22.832047</td>\n",
       "    </tr>\n",
       "    <tr>\n",
       "      <th>3</th>\n",
       "      <td>1.317978</td>\n",
       "      <td>29.042734</td>\n",
       "      <td>28.274597</td>\n",
       "      <td>27.501108</td>\n",
       "      <td>26.648792</td>\n",
       "      <td>26.091450</td>\n",
       "      <td>25.346502</td>\n",
       "    </tr>\n",
       "    <tr>\n",
       "      <th>4</th>\n",
       "      <td>1.386366</td>\n",
       "      <td>26.292625</td>\n",
       "      <td>25.774780</td>\n",
       "      <td>25.429962</td>\n",
       "      <td>24.806532</td>\n",
       "      <td>24.367950</td>\n",
       "      <td>23.700010</td>\n",
       "    </tr>\n",
       "    <tr>\n",
       "      <th>...</th>\n",
       "      <td>...</td>\n",
       "      <td>...</td>\n",
       "      <td>...</td>\n",
       "      <td>...</td>\n",
       "      <td>...</td>\n",
       "      <td>...</td>\n",
       "      <td>...</td>\n",
       "    </tr>\n",
       "    <tr>\n",
       "      <th>99995</th>\n",
       "      <td>2.147171</td>\n",
       "      <td>26.550978</td>\n",
       "      <td>26.349936</td>\n",
       "      <td>26.135284</td>\n",
       "      <td>26.082018</td>\n",
       "      <td>25.911028</td>\n",
       "      <td>25.558134</td>\n",
       "    </tr>\n",
       "    <tr>\n",
       "      <th>99996</th>\n",
       "      <td>1.457508</td>\n",
       "      <td>27.362207</td>\n",
       "      <td>27.036274</td>\n",
       "      <td>26.823139</td>\n",
       "      <td>26.420128</td>\n",
       "      <td>26.110035</td>\n",
       "      <td>25.524902</td>\n",
       "    </tr>\n",
       "    <tr>\n",
       "      <th>99997</th>\n",
       "      <td>1.372993</td>\n",
       "      <td>27.736044</td>\n",
       "      <td>27.271955</td>\n",
       "      <td>26.887581</td>\n",
       "      <td>26.416138</td>\n",
       "      <td>26.043434</td>\n",
       "      <td>25.456161</td>\n",
       "    </tr>\n",
       "    <tr>\n",
       "      <th>99998</th>\n",
       "      <td>0.855022</td>\n",
       "      <td>28.044552</td>\n",
       "      <td>27.327118</td>\n",
       "      <td>26.599014</td>\n",
       "      <td>25.862333</td>\n",
       "      <td>25.592169</td>\n",
       "      <td>25.506388</td>\n",
       "    </tr>\n",
       "    <tr>\n",
       "      <th>99999</th>\n",
       "      <td>1.723768</td>\n",
       "      <td>27.049068</td>\n",
       "      <td>26.526745</td>\n",
       "      <td>26.094595</td>\n",
       "      <td>25.642973</td>\n",
       "      <td>25.197958</td>\n",
       "      <td>24.900501</td>\n",
       "    </tr>\n",
       "  </tbody>\n",
       "</table>\n",
       "<p>100000 rows × 7 columns</p>\n",
       "</div>"
      ]
     },
     "execution_count": 2,
     "metadata": {},
     "output_type": "execute_result"
    }
   ],
   "execution_count": 2
  },
  {
   "cell_type": "code",
   "metadata": {
    "ExecuteTime": {
     "end_time": "2024-06-05T15:37:48.716981Z",
     "start_time": "2024-06-05T15:37:48.702086Z"
    }
   },
   "source": [
    "# flow_file = os.path.join(\n",
    "#     os.path.dirname(pzflow.__file__), \"example_files\", \"example-flow.pzflow.pkl\"\n",
    "# )\n",
    "# flowCreator_truth = pzflow.Flow(file=flow_file)\n",
    "\n",
    "n_samples = int(1e5)\n",
    "samples_truth = flow_file.sample(n_samples)"
   ],
   "outputs": [],
   "execution_count": 3
  },
  {
   "cell_type": "code",
   "metadata": {
    "ExecuteTime": {
     "end_time": "2024-06-05T15:37:50.160947Z",
     "start_time": "2024-06-05T15:37:50.146641Z"
    }
   },
   "source": [
    "samples_truth"
   ],
   "outputs": [
    {
     "data": {
      "text/plain": [
       "       redshift          u          g          r          i          z  \\\n",
       "55606  0.274375  22.575424  20.562437  19.182606  18.655003  18.376507   \n",
       "5492   0.609481  26.177778  25.768097  24.972853  24.450748  24.322546   \n",
       "32076  0.357505  26.635614  26.297935  25.728689  25.646473  25.348820   \n",
       "38253  0.771426  23.617403  23.551189  22.874117  21.907862  21.351149   \n",
       "81163  0.790994  25.601871  25.317299  24.798958  24.087276  23.867321   \n",
       "...         ...        ...        ...        ...        ...        ...   \n",
       "92285  0.998469  26.757711  26.442570  25.967600  25.513737  25.060711   \n",
       "61831  0.854946  26.664486  25.918753  24.527800  23.359274  22.738544   \n",
       "18197  2.199502  27.139866  26.942619  26.740353  26.718845  26.611641   \n",
       "40621  1.502140  26.802992  26.545099  26.354998  26.016073  25.796749   \n",
       "71060  1.529567  28.592424  27.579506  26.890114  25.992695  25.466482   \n",
       "\n",
       "               y  \n",
       "55606  18.144571  \n",
       "5492   24.172985  \n",
       "32076  25.431658  \n",
       "38253  21.087290  \n",
       "81163  23.798540  \n",
       "...          ...  \n",
       "92285  24.937050  \n",
       "61831  22.522497  \n",
       "18197  26.358942  \n",
       "40621  25.282021  \n",
       "71060  24.901106  \n",
       "\n",
       "[100000 rows x 7 columns]"
      ],
      "text/html": [
       "<div>\n",
       "<style scoped>\n",
       "    .dataframe tbody tr th:only-of-type {\n",
       "        vertical-align: middle;\n",
       "    }\n",
       "\n",
       "    .dataframe tbody tr th {\n",
       "        vertical-align: top;\n",
       "    }\n",
       "\n",
       "    .dataframe thead th {\n",
       "        text-align: right;\n",
       "    }\n",
       "</style>\n",
       "<table border=\"1\" class=\"dataframe\">\n",
       "  <thead>\n",
       "    <tr style=\"text-align: right;\">\n",
       "      <th></th>\n",
       "      <th>redshift</th>\n",
       "      <th>u</th>\n",
       "      <th>g</th>\n",
       "      <th>r</th>\n",
       "      <th>i</th>\n",
       "      <th>z</th>\n",
       "      <th>y</th>\n",
       "    </tr>\n",
       "  </thead>\n",
       "  <tbody>\n",
       "    <tr>\n",
       "      <th>55606</th>\n",
       "      <td>0.274375</td>\n",
       "      <td>22.575424</td>\n",
       "      <td>20.562437</td>\n",
       "      <td>19.182606</td>\n",
       "      <td>18.655003</td>\n",
       "      <td>18.376507</td>\n",
       "      <td>18.144571</td>\n",
       "    </tr>\n",
       "    <tr>\n",
       "      <th>5492</th>\n",
       "      <td>0.609481</td>\n",
       "      <td>26.177778</td>\n",
       "      <td>25.768097</td>\n",
       "      <td>24.972853</td>\n",
       "      <td>24.450748</td>\n",
       "      <td>24.322546</td>\n",
       "      <td>24.172985</td>\n",
       "    </tr>\n",
       "    <tr>\n",
       "      <th>32076</th>\n",
       "      <td>0.357505</td>\n",
       "      <td>26.635614</td>\n",
       "      <td>26.297935</td>\n",
       "      <td>25.728689</td>\n",
       "      <td>25.646473</td>\n",
       "      <td>25.348820</td>\n",
       "      <td>25.431658</td>\n",
       "    </tr>\n",
       "    <tr>\n",
       "      <th>38253</th>\n",
       "      <td>0.771426</td>\n",
       "      <td>23.617403</td>\n",
       "      <td>23.551189</td>\n",
       "      <td>22.874117</td>\n",
       "      <td>21.907862</td>\n",
       "      <td>21.351149</td>\n",
       "      <td>21.087290</td>\n",
       "    </tr>\n",
       "    <tr>\n",
       "      <th>81163</th>\n",
       "      <td>0.790994</td>\n",
       "      <td>25.601871</td>\n",
       "      <td>25.317299</td>\n",
       "      <td>24.798958</td>\n",
       "      <td>24.087276</td>\n",
       "      <td>23.867321</td>\n",
       "      <td>23.798540</td>\n",
       "    </tr>\n",
       "    <tr>\n",
       "      <th>...</th>\n",
       "      <td>...</td>\n",
       "      <td>...</td>\n",
       "      <td>...</td>\n",
       "      <td>...</td>\n",
       "      <td>...</td>\n",
       "      <td>...</td>\n",
       "      <td>...</td>\n",
       "    </tr>\n",
       "    <tr>\n",
       "      <th>92285</th>\n",
       "      <td>0.998469</td>\n",
       "      <td>26.757711</td>\n",
       "      <td>26.442570</td>\n",
       "      <td>25.967600</td>\n",
       "      <td>25.513737</td>\n",
       "      <td>25.060711</td>\n",
       "      <td>24.937050</td>\n",
       "    </tr>\n",
       "    <tr>\n",
       "      <th>61831</th>\n",
       "      <td>0.854946</td>\n",
       "      <td>26.664486</td>\n",
       "      <td>25.918753</td>\n",
       "      <td>24.527800</td>\n",
       "      <td>23.359274</td>\n",
       "      <td>22.738544</td>\n",
       "      <td>22.522497</td>\n",
       "    </tr>\n",
       "    <tr>\n",
       "      <th>18197</th>\n",
       "      <td>2.199502</td>\n",
       "      <td>27.139866</td>\n",
       "      <td>26.942619</td>\n",
       "      <td>26.740353</td>\n",
       "      <td>26.718845</td>\n",
       "      <td>26.611641</td>\n",
       "      <td>26.358942</td>\n",
       "    </tr>\n",
       "    <tr>\n",
       "      <th>40621</th>\n",
       "      <td>1.502140</td>\n",
       "      <td>26.802992</td>\n",
       "      <td>26.545099</td>\n",
       "      <td>26.354998</td>\n",
       "      <td>26.016073</td>\n",
       "      <td>25.796749</td>\n",
       "      <td>25.282021</td>\n",
       "    </tr>\n",
       "    <tr>\n",
       "      <th>71060</th>\n",
       "      <td>1.529567</td>\n",
       "      <td>28.592424</td>\n",
       "      <td>27.579506</td>\n",
       "      <td>26.890114</td>\n",
       "      <td>25.992695</td>\n",
       "      <td>25.466482</td>\n",
       "      <td>24.901106</td>\n",
       "    </tr>\n",
       "  </tbody>\n",
       "</table>\n",
       "<p>100000 rows × 7 columns</p>\n",
       "</div>"
      ]
     },
     "execution_count": 4,
     "metadata": {},
     "output_type": "execute_result"
    }
   ],
   "execution_count": 4
  },
  {
   "cell_type": "markdown",
   "metadata": {},
   "source": [
    "## QUAIL Base Classes"
   ]
  },
  {
   "cell_type": "markdown",
   "metadata": {},
   "source": [
    "We'll be using a few highly simplified versions of RAIL classes, namely:\n",
    "- QuailStage (accompanied by a NothingStage, to demonstrate how we'll inherit for our other degrader stages)\n",
    "- DataStore\n",
    "- Pipeline"
   ]
  },
  {
   "cell_type": "code",
   "metadata": {
    "ExecuteTime": {
     "end_time": "2024-06-05T16:40:32.437341Z",
     "start_time": "2024-06-05T16:40:32.429978Z"
    }
   },
   "source": [
    "from abc import ABC, abstractmethod\n",
    "import numpy as np\n",
    "\n",
    "class QuailStage(ABC):\n",
    "    \"\"\"A class for the QuailStage stage.\"\"\"\n",
    "\n",
    "    def __init__(self, name):\n",
    "        \"\"\"Constructor.\n",
    "        \n",
    "        Parameters\n",
    "        ----------\n",
    "        name : str\n",
    "            The (human-readable) name of the stage (this will be used in the Pipeline's __repr__).\n",
    "        \"\"\"\n",
    "        self.name = name\n",
    "        self.data_in = None\n",
    "        self.data_out = None\n",
    "\n",
    "    @abstractmethod\n",
    "    def run(self):\n",
    "        \"\"\"To be implemented in subclasses. This should set the data_out attribute.\"\"\"\n",
    "        pass"
   ],
   "outputs": [],
   "execution_count": 10
  },
  {
   "cell_type": "code",
   "metadata": {
    "ExecuteTime": {
     "end_time": "2024-06-05T15:41:36.127979Z",
     "start_time": "2024-06-05T15:41:36.124497Z"
    }
   },
   "source": [
    "class NothingStage(QuailStage):\n",
    "    \"\"\"A stage that does nothing.\"\"\"\n",
    "    def __init__(self, name):\n",
    "        \"\"\"Constructor.\n",
    "        \n",
    "        Parameters\n",
    "        ----------\n",
    "        name : str\n",
    "            The name of the stage.\n",
    "        \"\"\"\n",
    "        super().__init__(name)\n",
    "\n",
    "    def run(self):\n",
    "        \"\"\"Run the stage.\"\"\"\n",
    "        self.data_out = self.data_in"
   ],
   "outputs": [],
   "execution_count": 7
  },
  {
   "cell_type": "markdown",
   "metadata": {},
   "source": [
    "## Degrader 1: BadErrorModel\n",
    "\n",
    "We start by creating an incredibly naive error model as a stand-in for the LSSTErrorModel.\n",
    "\n",
    "This will generate u_err, g_err, etc. columns for us, but there's no scientific basis for the values it generates."
   ]
  },
  {
   "cell_type": "code",
   "metadata": {
    "ExecuteTime": {
     "end_time": "2024-06-05T15:57:44.769629Z",
     "start_time": "2024-06-05T15:57:44.762373Z"
    }
   },
   "source": [
    "class BadErrorModel(QuailStage):\n",
    "    \"\"\"A stage that applies bad errors.\"\"\"\n",
    "    def __init__(self, name):\n",
    "        \"\"\"Constructor.\n",
    "        \n",
    "        Parameters\n",
    "        ----------\n",
    "        name : str\n",
    "            The name of the stage.\n",
    "        \"\"\"\n",
    "        super().__init__(name)\n",
    "\n",
    "    def apply_errors(self):\n",
    "        \"\"\"Apply the errors to the input data.\n",
    "        \n",
    "        Returns\n",
    "        -------\n",
    "        errors : pandas.DataFrame\n",
    "            The input data with errors applied.\n",
    "        \"\"\"\n",
    "        # create a copy of the input data\n",
    "        errors = self.data_in.copy()\n",
    "        for col in [\"u\", \"g\", \"r\", \"i\", \"z\", \"y\"]:\n",
    "            # create a new column with the error\n",
    "            errors[f\"{col}_err\"] = 0.01 * self.data_in[col]\n",
    "        # reorder the columns\n",
    "        errors = errors[[\"redshift\", \"u\", \"u_err\", \"g\", \"g_err\", \"r\", \"r_err\", \"i\", \"i_err\", \"z\", \"z_err\", \"y\", \"y_err\"]]\n",
    "        return errors\n",
    "\n",
    "    def run(self):\n",
    "        \"\"\"Run the stage.\"\"\"\n",
    "        self.data_out = self.apply_errors()\n",
    "\n",
    "    def plot(self):\n",
    "        \"\"\"Plot the truth data and the errors.\"\"\"\n",
    "        if self.data_out is None:\n",
    "            raise ValueError(\"You must run the stage first.\")\n",
    "        \n",
    "        fig, ax = plt.subplots(figsize=(5, 4), dpi=100)\n",
    "\n",
    "        for band in \"ugrizy\":\n",
    "            # pull out the magnitudes and errors\n",
    "            mags = self.data_out[band].to_numpy()\n",
    "            errs = self.data_out[band + \"_err\"].to_numpy()\n",
    "\n",
    "            # sort them by magnitude\n",
    "            mags, errs = mags[mags.argsort()], errs[mags.argsort()]\n",
    "\n",
    "            # plot errs vs mags\n",
    "            ax.plot(mags, errs, label=band)\n",
    "\n",
    "        ax.legend()\n",
    "        ax.set(xlabel=\"Magnitude (AB)\", ylabel=\"Error (mags)\")\n",
    "        plt.show()"
   ],
   "outputs": [],
   "execution_count": 8
  },
  {
   "cell_type": "markdown",
   "metadata": {},
   "source": [
    "## Degrader 2: QuantityCut\n",
    "\n",
    "This degrader is based on our QuantityCut example in the degradation demo notebook."
   ]
  },
  {
   "cell_type": "code",
   "metadata": {
    "ExecuteTime": {
     "end_time": "2024-06-05T15:58:05.611575Z",
     "start_time": "2024-06-05T15:58:05.605714Z"
    }
   },
   "source": [
    "class QuantityCut(QuailStage):\n",
    "    \"\"\"Applies a cut to the input data based on a quantity.\n",
    "    \n",
    "    Parameters\n",
    "    ----------\n",
    "    name : str\n",
    "        The name of the stage.\n",
    "    cuts : dict\n",
    "        A dictionary of cuts to apply to the data. \n",
    "\n",
    "    Notes\n",
    "    -----\n",
    "    The cut keys should be the names of columns you wish to make cuts on.\n",
    "\n",
    "    The cut values should be either:\n",
    "    - a number, which is the maximum value. E.g. if the dictionary\n",
    "    contains \"i\": 25, then values of i > 25 are cut from the sample.\n",
    "    - an iterable, which is the range of acceptable values. E.g. if the \n",
    "    dictionary contains \"redshift\": (1.5, 2.3), then redshifts outside that\n",
    "    range are cut from the sample.\n",
    "    \"\"\"\n",
    "    def __init__(self, name=\"QuantityCut\", cuts=None):\n",
    "        \"\"\"Constructor.\n",
    "        \"\"\"\n",
    "        super().__init__(name=name)\n",
    "        self.cuts = cuts \n",
    "        self.data_out = None\n",
    "\n",
    "    def apply_cut(self):\n",
    "        \"\"\"Apply the cuts to the input data.\n",
    "        \n",
    "        Returns\n",
    "        -------\n",
    "        data_out : pandas.DataFrame\n",
    "            The input data with the cut applied.\n",
    "        \"\"\"\n",
    "        # create a copy of the input data\n",
    "        data_out = self.data_in.copy()\n",
    "        \n",
    "        # Apply the cuts\n",
    "        for col, cut in self.cuts.items():\n",
    "            if isinstance(cut, Number):\n",
    "                # Apply cut as maximum value\n",
    "                data_out = data_out[data_out[col] <= cut]\n",
    "            elif hasattr(cut, \"__iter__\"):\n",
    "                # Apply cut as range of acceptable values\n",
    "                data_out = data_out[(data_out[col] >= cut[0]) & (data_out[col] <= cut[1])]\n",
    "            else:\n",
    "                raise TypeError(\"Cut must be a number or an iterable of (min, max)\")\n",
    "\n",
    "        return data_out\n",
    "\n",
    "    def run(self):\n",
    "        \"\"\"Run the stage.\"\"\"\n",
    "        data_out = self.apply_cut()\n",
    "        self.data_out = data_out"
   ],
   "outputs": [],
   "execution_count": 9
  },
  {
   "cell_type": "markdown",
   "metadata": {},
   "source": [
    "## Degrader 3: InvRedshiftIncompleteness\n",
    "\n",
    "This one is up to you! Feel free to reference "
   ]
  },
  {
   "cell_type": "code",
   "metadata": {
    "ExecuteTime": {
     "end_time": "2024-06-05T17:02:00.576406Z",
     "start_time": "2024-06-05T17:02:00.570885Z"
    }
   },
   "source": [
    "# Potentially, write an InvRedshiftIncompleteness for them here\n",
    "\n",
    "class InvRedshiftIncompleteness(QuailStage):\n",
    "    \"\"\"A function that applies and incomplete inverse redshift. \n",
    "    This degrader applies a selection function, which keeps galaxies \n",
    "    with probability $p_{\\text{keep}}(z) = \\min(1, \\frac{z_p}{z})$, \n",
    "    where $z_p$ is the ''pivot'' redshift. We'll use $z_p = 0.8$\n",
    "    \"\"\"\n",
    "    \n",
    "    def __init__(self, name, z_p=0.8):\n",
    "        \"\"\"\n",
    "        Constructor.\n",
    "        \n",
    "        Parameters\n",
    "        ----------\n",
    "        name : str\n",
    "            The name of the stage.\n",
    "        z_p : float\n",
    "            The pivot redshift. Default value is 0.8\n",
    "        \"\"\"\n",
    "        super().__init__(name)\n",
    "        self.z_p = z_p\n",
    "        \n",
    "    def run(self):\n",
    "        \"\"\"Run the stage.\"\"\"\n",
    "        if self.data_in is None:\n",
    "            raise ValueError(\"You must run the stage first.\")\n",
    "        # Add the data into an array\n",
    "        z = np.array(self.data_in[\"redshift\"])\n",
    "        \n",
    "        # Calculating the probability of the selection fn\n",
    "        p_keep = np.minimum(1, self.z_p / z)\n",
    "        \n",
    "        # Generate random values for each galaxy\n",
    "        vals = np.random.rand(len(z))\n",
    "        \n",
    "        # Select galaxies based on probability\n",
    "        mask = vals < p_keep\n",
    "        \n",
    "        # Set the data_out to be the masked z values\n",
    "        self.data_out = z[mask]"
   ],
   "outputs": [],
   "execution_count": 27
  },
  {
   "metadata": {
    "ExecuteTime": {
     "end_time": "2024-06-05T16:58:24.253271Z",
     "start_time": "2024-06-05T16:58:24.238733Z"
    }
   },
   "cell_type": "code",
   "source": "#print(z.shape)",
   "outputs": [
    {
     "ename": "NameError",
     "evalue": "name 'z' is not defined",
     "output_type": "error",
     "traceback": [
      "\u001B[0;31m---------------------------------------------------------------------------\u001B[0m",
      "\u001B[0;31mNameError\u001B[0m                                 Traceback (most recent call last)",
      "Cell \u001B[0;32mIn[26], line 1\u001B[0m\n\u001B[0;32m----> 1\u001B[0m \u001B[38;5;28mprint\u001B[39m(\u001B[43mz\u001B[49m\u001B[38;5;241m.\u001B[39mshape())\n",
      "\u001B[0;31mNameError\u001B[0m: name 'z' is not defined"
     ]
    }
   ],
   "execution_count": 26
  },
  {
   "cell_type": "markdown",
   "metadata": {},
   "source": [
    "## Making the Pipeline"
   ]
  },
  {
   "cell_type": "code",
   "metadata": {
    "ExecuteTime": {
     "end_time": "2024-06-05T17:02:05.593309Z",
     "start_time": "2024-06-05T17:02:05.588204Z"
    }
   },
   "source": [
    "class DataStore(dict):\n",
    "    def __init__(self):\n",
    "        dict.__init__(self)\n",
    "    \n",
    "    def __getattr__(self, key): # Code copied from RAIL's DataStore \n",
    "        \"\"\"Allow attribute-like parameter access\"\"\"\n",
    "        try:\n",
    "            return self.__getitem__(key)\n",
    "        except KeyError as msg:\n",
    "            # Kludge to get docstrings to work\n",
    "            if key in [\"__objclass__\"]:  # pragma: no cover\n",
    "                return None\n",
    "            raise KeyError from msg\n",
    "    \n",
    "    def __repr__(self): # Feel free to change this output into whatever you like!\n",
    "        \"\"\"Prints the DataStore keys and shapes in a human-readable format.\"\"\"\n",
    "        s = \"DataStore\\n\"\n",
    "        for key in self.keys():\n",
    "            s += f\"  {key}:\\n\\t{self[key].shape}\\n\"\n",
    "        return s\n",
    "    \n"
   ],
   "outputs": [],
   "execution_count": 28
  },
  {
   "cell_type": "code",
   "metadata": {
    "ExecuteTime": {
     "end_time": "2024-06-05T17:02:06.155268Z",
     "start_time": "2024-06-05T17:02:06.149917Z"
    }
   },
   "source": [
    "class Pipeline:\n",
    "    def __init__(self, data_store, stages):\n",
    "        self.data_store = data_store\n",
    "        self.stages = stages\n",
    "\n",
    "    def run(self):\n",
    "        current_data = self.data_store[\"input_data\"]\n",
    "        for stage in self.stages:\n",
    "            print(f\"Running stage: {stage.name}\")\n",
    "            stage.data_in = current_data\n",
    "            stage.run()\n",
    "            self.data_store[f\"{stage.name}_data\"] = stage.data_out\n",
    "            current_data = stage.data_out\n",
    "        self.data_store[\"output_data\"] = current_data\n",
    "\n",
    "    def __repr__(self):\n",
    "        s = \"Pipeline\\n\"\n",
    "        for stage in self.stages:\n",
    "            s += f\"  {stage.name}\\n\"\n",
    "        return s\n",
    "    \n",
    "    def get_stage(self, stage_name):\n",
    "        for stage in self.stages:\n",
    "            if stage.name == stage_name:\n",
    "                return stage\n",
    "        print(f\"Stage {stage_name} not found in pipeline.\")\n",
    "        return None\n",
    "\n",
    "    def plot(self):\n",
    "        pass\n",
    "\n",
    "    def save(self):\n",
    "        pass\n"
   ],
   "outputs": [],
   "execution_count": 29
  },
  {
   "cell_type": "code",
   "metadata": {
    "ExecuteTime": {
     "end_time": "2024-06-05T17:02:07.372525Z",
     "start_time": "2024-06-05T17:02:07.368618Z"
    }
   },
   "source": [
    "DS = DataStore()\n",
    "DS[\"input_data\"] = samples_truth\n",
    "\n",
    "stages = [\n",
    "    NothingStage(\"do_nothing\"),\n",
    "    BadErrorModel(\"bad_error_model\"),\n",
    "    QuantityCut(\"quality_cut\", cuts={\"i\": 25.3}),\n",
    "    InvRedshiftIncompleteness(\"incomplete_inv_z\", z_p=0.8),\n",
    "]\n",
    "\n",
    "pipeline = Pipeline(DS, stages)"
   ],
   "outputs": [],
   "execution_count": 30
  },
  {
   "cell_type": "code",
   "metadata": {
    "ExecuteTime": {
     "end_time": "2024-06-05T17:02:08.135131Z",
     "start_time": "2024-06-05T17:02:08.130381Z"
    }
   },
   "source": [
    "# Our DataStore before running the pipeline\n",
    "\n",
    "DS"
   ],
   "outputs": [
    {
     "data": {
      "text/plain": [
       "DataStore\n",
       "  input_data:\n",
       "\t(100000, 7)"
      ]
     },
     "execution_count": 31,
     "metadata": {},
     "output_type": "execute_result"
    }
   ],
   "execution_count": 31
  },
  {
   "cell_type": "code",
   "metadata": {
    "ExecuteTime": {
     "end_time": "2024-06-05T17:02:09.093175Z",
     "start_time": "2024-06-05T17:02:09.073648Z"
    }
   },
   "source": [
    "pipeline.run()"
   ],
   "outputs": [
    {
     "name": "stdout",
     "output_type": "stream",
     "text": [
      "Running stage: do_nothing\n",
      "Running stage: bad_error_model\n",
      "Running stage: quality_cut\n",
      "Running stage: incomplete_inv_z\n"
     ]
    }
   ],
   "execution_count": 32
  },
  {
   "cell_type": "code",
   "execution_count": 14,
   "metadata": {},
   "outputs": [
    {
     "data": {
      "text/plain": [
       "DataStore\n",
       "  input_data:\n",
       "\t(100000, 7)\n",
       "  do_nothing_data:\n",
       "\t(100000, 7)\n",
       "  bad_error_model_data:\n",
       "\t(100000, 13)\n",
       "  quality_cut_data:\n",
       "\t(51834, 13)\n",
       "  output_data:\n",
       "\t(51834, 13)"
      ]
     },
     "execution_count": 14,
     "metadata": {},
     "output_type": "execute_result"
    }
   ],
   "source": [
    "# Our DataStore after running the pipeline\n",
    "\n",
    "DS"
   ]
  },
  {
   "cell_type": "markdown",
   "metadata": {},
   "source": [
    "## Looking at the data"
   ]
  },
  {
   "cell_type": "markdown",
   "metadata": {},
   "source": [
    "Poke around and see the changes you've made! Note that overloading the `__getattr__` in our DataStore class lets us access data via `DS.key` syntax."
   ]
  },
  {
   "cell_type": "code",
   "metadata": {
    "ExecuteTime": {
     "end_time": "2024-06-05T17:02:44.675570Z",
     "start_time": "2024-06-05T17:02:44.660876Z"
    }
   },
   "source": [
    "DS.quality_cut_data"
   ],
   "outputs": [
    {
     "data": {
      "text/plain": [
       "       redshift          u     u_err          g     g_err          r  \\\n",
       "55606  0.274375  22.575424  0.225754  20.562437  0.205624  19.182606   \n",
       "5492   0.609481  26.177778  0.261778  25.768097  0.257681  24.972853   \n",
       "38253  0.771426  23.617403  0.236174  23.551189  0.235512  22.874117   \n",
       "81163  0.790994  25.601871  0.256019  25.317299  0.253173  24.798958   \n",
       "38644  0.970435  27.831257  0.278313  26.108942  0.261089  23.708603   \n",
       "...         ...        ...       ...        ...       ...        ...   \n",
       "94754  1.423566  26.725594  0.267256  25.815470  0.258155  25.124460   \n",
       "7286   1.369291  26.623444  0.266234  25.826717  0.258267  25.169836   \n",
       "42823  0.084712  22.825827  0.228258  22.132629  0.221326  21.832043   \n",
       "57585  1.339891  26.283838  0.262838  25.533890  0.255339  24.795832   \n",
       "61831  0.854946  26.664486  0.266645  25.918753  0.259188  24.527800   \n",
       "\n",
       "          r_err          i     i_err          z     z_err          y     y_err  \n",
       "55606  0.191826  18.655003  0.186550  18.376507  0.183765  18.144571  0.181446  \n",
       "5492   0.249729  24.450748  0.244507  24.322546  0.243225  24.172985  0.241730  \n",
       "38253  0.228741  21.907862  0.219079  21.351149  0.213511  21.087290  0.210873  \n",
       "81163  0.247990  24.087276  0.240873  23.867321  0.238673  23.798540  0.237985  \n",
       "38644  0.237086  22.597404  0.225974  21.640858  0.216409  21.182022  0.211820  \n",
       "...         ...        ...       ...        ...       ...        ...       ...  \n",
       "94754  0.251245  24.255564  0.242556  23.825903  0.238259  23.156876  0.231569  \n",
       "7286   0.251698  24.523485  0.245235  24.122246  0.241222  23.489788  0.234898  \n",
       "42823  0.218320  21.564074  0.215641  21.527113  0.215271  21.347439  0.213474  \n",
       "57585  0.247958  24.227423  0.242274  23.835733  0.238357  23.247242  0.232472  \n",
       "61831  0.245278  23.359274  0.233593  22.738544  0.227385  22.522497  0.225225  \n",
       "\n",
       "[51834 rows x 13 columns]"
      ],
      "text/html": [
       "<div>\n",
       "<style scoped>\n",
       "    .dataframe tbody tr th:only-of-type {\n",
       "        vertical-align: middle;\n",
       "    }\n",
       "\n",
       "    .dataframe tbody tr th {\n",
       "        vertical-align: top;\n",
       "    }\n",
       "\n",
       "    .dataframe thead th {\n",
       "        text-align: right;\n",
       "    }\n",
       "</style>\n",
       "<table border=\"1\" class=\"dataframe\">\n",
       "  <thead>\n",
       "    <tr style=\"text-align: right;\">\n",
       "      <th></th>\n",
       "      <th>redshift</th>\n",
       "      <th>u</th>\n",
       "      <th>u_err</th>\n",
       "      <th>g</th>\n",
       "      <th>g_err</th>\n",
       "      <th>r</th>\n",
       "      <th>r_err</th>\n",
       "      <th>i</th>\n",
       "      <th>i_err</th>\n",
       "      <th>z</th>\n",
       "      <th>z_err</th>\n",
       "      <th>y</th>\n",
       "      <th>y_err</th>\n",
       "    </tr>\n",
       "  </thead>\n",
       "  <tbody>\n",
       "    <tr>\n",
       "      <th>55606</th>\n",
       "      <td>0.274375</td>\n",
       "      <td>22.575424</td>\n",
       "      <td>0.225754</td>\n",
       "      <td>20.562437</td>\n",
       "      <td>0.205624</td>\n",
       "      <td>19.182606</td>\n",
       "      <td>0.191826</td>\n",
       "      <td>18.655003</td>\n",
       "      <td>0.186550</td>\n",
       "      <td>18.376507</td>\n",
       "      <td>0.183765</td>\n",
       "      <td>18.144571</td>\n",
       "      <td>0.181446</td>\n",
       "    </tr>\n",
       "    <tr>\n",
       "      <th>5492</th>\n",
       "      <td>0.609481</td>\n",
       "      <td>26.177778</td>\n",
       "      <td>0.261778</td>\n",
       "      <td>25.768097</td>\n",
       "      <td>0.257681</td>\n",
       "      <td>24.972853</td>\n",
       "      <td>0.249729</td>\n",
       "      <td>24.450748</td>\n",
       "      <td>0.244507</td>\n",
       "      <td>24.322546</td>\n",
       "      <td>0.243225</td>\n",
       "      <td>24.172985</td>\n",
       "      <td>0.241730</td>\n",
       "    </tr>\n",
       "    <tr>\n",
       "      <th>38253</th>\n",
       "      <td>0.771426</td>\n",
       "      <td>23.617403</td>\n",
       "      <td>0.236174</td>\n",
       "      <td>23.551189</td>\n",
       "      <td>0.235512</td>\n",
       "      <td>22.874117</td>\n",
       "      <td>0.228741</td>\n",
       "      <td>21.907862</td>\n",
       "      <td>0.219079</td>\n",
       "      <td>21.351149</td>\n",
       "      <td>0.213511</td>\n",
       "      <td>21.087290</td>\n",
       "      <td>0.210873</td>\n",
       "    </tr>\n",
       "    <tr>\n",
       "      <th>81163</th>\n",
       "      <td>0.790994</td>\n",
       "      <td>25.601871</td>\n",
       "      <td>0.256019</td>\n",
       "      <td>25.317299</td>\n",
       "      <td>0.253173</td>\n",
       "      <td>24.798958</td>\n",
       "      <td>0.247990</td>\n",
       "      <td>24.087276</td>\n",
       "      <td>0.240873</td>\n",
       "      <td>23.867321</td>\n",
       "      <td>0.238673</td>\n",
       "      <td>23.798540</td>\n",
       "      <td>0.237985</td>\n",
       "    </tr>\n",
       "    <tr>\n",
       "      <th>38644</th>\n",
       "      <td>0.970435</td>\n",
       "      <td>27.831257</td>\n",
       "      <td>0.278313</td>\n",
       "      <td>26.108942</td>\n",
       "      <td>0.261089</td>\n",
       "      <td>23.708603</td>\n",
       "      <td>0.237086</td>\n",
       "      <td>22.597404</td>\n",
       "      <td>0.225974</td>\n",
       "      <td>21.640858</td>\n",
       "      <td>0.216409</td>\n",
       "      <td>21.182022</td>\n",
       "      <td>0.211820</td>\n",
       "    </tr>\n",
       "    <tr>\n",
       "      <th>...</th>\n",
       "      <td>...</td>\n",
       "      <td>...</td>\n",
       "      <td>...</td>\n",
       "      <td>...</td>\n",
       "      <td>...</td>\n",
       "      <td>...</td>\n",
       "      <td>...</td>\n",
       "      <td>...</td>\n",
       "      <td>...</td>\n",
       "      <td>...</td>\n",
       "      <td>...</td>\n",
       "      <td>...</td>\n",
       "      <td>...</td>\n",
       "    </tr>\n",
       "    <tr>\n",
       "      <th>94754</th>\n",
       "      <td>1.423566</td>\n",
       "      <td>26.725594</td>\n",
       "      <td>0.267256</td>\n",
       "      <td>25.815470</td>\n",
       "      <td>0.258155</td>\n",
       "      <td>25.124460</td>\n",
       "      <td>0.251245</td>\n",
       "      <td>24.255564</td>\n",
       "      <td>0.242556</td>\n",
       "      <td>23.825903</td>\n",
       "      <td>0.238259</td>\n",
       "      <td>23.156876</td>\n",
       "      <td>0.231569</td>\n",
       "    </tr>\n",
       "    <tr>\n",
       "      <th>7286</th>\n",
       "      <td>1.369291</td>\n",
       "      <td>26.623444</td>\n",
       "      <td>0.266234</td>\n",
       "      <td>25.826717</td>\n",
       "      <td>0.258267</td>\n",
       "      <td>25.169836</td>\n",
       "      <td>0.251698</td>\n",
       "      <td>24.523485</td>\n",
       "      <td>0.245235</td>\n",
       "      <td>24.122246</td>\n",
       "      <td>0.241222</td>\n",
       "      <td>23.489788</td>\n",
       "      <td>0.234898</td>\n",
       "    </tr>\n",
       "    <tr>\n",
       "      <th>42823</th>\n",
       "      <td>0.084712</td>\n",
       "      <td>22.825827</td>\n",
       "      <td>0.228258</td>\n",
       "      <td>22.132629</td>\n",
       "      <td>0.221326</td>\n",
       "      <td>21.832043</td>\n",
       "      <td>0.218320</td>\n",
       "      <td>21.564074</td>\n",
       "      <td>0.215641</td>\n",
       "      <td>21.527113</td>\n",
       "      <td>0.215271</td>\n",
       "      <td>21.347439</td>\n",
       "      <td>0.213474</td>\n",
       "    </tr>\n",
       "    <tr>\n",
       "      <th>57585</th>\n",
       "      <td>1.339891</td>\n",
       "      <td>26.283838</td>\n",
       "      <td>0.262838</td>\n",
       "      <td>25.533890</td>\n",
       "      <td>0.255339</td>\n",
       "      <td>24.795832</td>\n",
       "      <td>0.247958</td>\n",
       "      <td>24.227423</td>\n",
       "      <td>0.242274</td>\n",
       "      <td>23.835733</td>\n",
       "      <td>0.238357</td>\n",
       "      <td>23.247242</td>\n",
       "      <td>0.232472</td>\n",
       "    </tr>\n",
       "    <tr>\n",
       "      <th>61831</th>\n",
       "      <td>0.854946</td>\n",
       "      <td>26.664486</td>\n",
       "      <td>0.266645</td>\n",
       "      <td>25.918753</td>\n",
       "      <td>0.259188</td>\n",
       "      <td>24.527800</td>\n",
       "      <td>0.245278</td>\n",
       "      <td>23.359274</td>\n",
       "      <td>0.233593</td>\n",
       "      <td>22.738544</td>\n",
       "      <td>0.227385</td>\n",
       "      <td>22.522497</td>\n",
       "      <td>0.225225</td>\n",
       "    </tr>\n",
       "  </tbody>\n",
       "</table>\n",
       "<p>51834 rows × 13 columns</p>\n",
       "</div>"
      ]
     },
     "execution_count": 33,
     "metadata": {},
     "output_type": "execute_result"
    }
   ],
   "execution_count": 33
  },
  {
   "cell_type": "markdown",
   "metadata": {},
   "source": [
    "## Plotting"
   ]
  },
  {
   "cell_type": "markdown",
   "metadata": {},
   "source": [
    "We can access the plot method of our error model like so:"
   ]
  },
  {
   "cell_type": "code",
   "metadata": {
    "ExecuteTime": {
     "end_time": "2024-06-05T17:02:51.573381Z",
     "start_time": "2024-06-05T17:02:50.658801Z"
    }
   },
   "source": [
    "pipeline.get_stage(\"bad_error_model\").plot()  # Compare this to the plot in the RAIL degrader notebook,\n",
    "                                              # where we see very different errors!"
   ],
   "outputs": [
    {
     "data": {
      "text/plain": [
       "<Figure size 500x400 with 1 Axes>"
      ],
      "image/png": "[encoded data removed]"
     },
     "metadata": {},
     "output_type": "display_data"
    }
   ],
   "execution_count": 34
  },
  {
   "cell_type": "markdown",
   "metadata": {},
   "source": [
    "And here, we grab a snippet of plotting code from the degrader demo notebook. \n",
    "\n",
    "As it is now, we can compare our DataStore's input data and its output data. \n",
    "\n",
    "What else would you want to show? And where would you fit the code in?"
   ]
  },
  {
   "cell_type": "code",
   "execution_count": 17,
   "metadata": {},
   "outputs": [
    {
     "data": {
      "image/png": "[encoded data removed]",
      "text/plain": [
       "<Figure size 500x400 with 1 Axes>"
      ]
     },
     "metadata": {},
     "output_type": "display_data"
    }
   ],
   "source": [
    "fig, ax = plt.subplots(figsize=(5, 4), dpi=100)\n",
    "\n",
    "zmin = 0\n",
    "zmax = 2.5\n",
    "\n",
    "hist_settings = {\n",
    "    \"bins\": 50,\n",
    "    \"range\": (zmin, zmax),\n",
    "    \"density\": False, # both versions are useful!\n",
    "    \"histtype\": \"step\",\n",
    "}\n",
    "\n",
    "ax.hist(DS[\"input_data\"][\"redshift\"], label=\"DS Input Data\", **hist_settings)\n",
    "ax.hist(DS[\"output_data\"][\"redshift\"], label=\"DS Output Data\", **hist_settings)\n",
    "# One could extend this to plot the intermediate data, too...\n",
    "\n",
    "ax.legend(title=\"Sample\")\n",
    "ax.set(xlim=(zmin, zmax), xlabel=\"Redshift\", ylabel=\"Galaxy density\")\n",
    "plt.show()\n"
   ]
  }
 ],
 "metadata": {
  "kernelspec": {
   "display_name": "quail",
   "language": "python",
   "name": "quail"
  },
  "language_info": {
   "codemirror_mode": {
    "name": "ipython",
    "version": 3
   },
   "file_extension": ".py",
   "mimetype": "text/x-python",
   "name": "python",
   "nbconvert_exporter": "python",
   "pygments_lexer": "ipython3",
   "version": "3.9.16"
  }
 },
 "nbformat": 4,
 "nbformat_minor": 2
}
